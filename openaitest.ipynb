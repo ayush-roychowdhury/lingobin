{
 "cells": [
  {
   "cell_type": "code",
   "execution_count": 29,
   "metadata": {},
   "outputs": [],
   "source": [
    "import os\n",
    "import datasets\n",
    "import soundfile\n",
    "import pandas as pd\n",
    "import librosa\n",
    "import pydub\n",
    "from pydub import AudioSegment"
   ]
  },
  {
   "cell_type": "code",
   "execution_count": 27,
   "metadata": {},
   "outputs": [
    {
     "name": "stdout",
     "output_type": "stream",
     "text": [
      "Collecting pydub\n",
      "  Using cached pydub-0.25.1-py2.py3-none-any.whl (32 kB)\n",
      "Installing collected packages: pydub\n",
      "Successfully installed pydub-0.25.1\n"
     ]
    },
    {
     "name": "stderr",
     "output_type": "stream",
     "text": [
      "\n",
      "\u001b[1m[\u001b[0m\u001b[34;49mnotice\u001b[0m\u001b[1;39;49m]\u001b[0m\u001b[39;49m A new release of pip is available: \u001b[0m\u001b[31;49m23.2.1\u001b[0m\u001b[39;49m -> \u001b[0m\u001b[32;49m23.3.1\u001b[0m\n",
      "\u001b[1m[\u001b[0m\u001b[34;49mnotice\u001b[0m\u001b[1;39;49m]\u001b[0m\u001b[39;49m To update, run: \u001b[0m\u001b[32;49mpip3 install --upgrade pip\u001b[0m\n"
     ]
    },
    {
     "data": {
      "text/plain": [
       "0"
      ]
     },
     "execution_count": 27,
     "metadata": {},
     "output_type": "execute_result"
    }
   ],
   "source": [
    "os.system(\"pip3 install pydub\")"
   ]
  },
  {
   "cell_type": "code",
   "execution_count": 7,
   "metadata": {},
   "outputs": [
    {
     "data": {
      "application/vnd.jupyter.widget-view+json": {
       "model_id": "0b5014733a4745c68375a77e2ad3c73c",
       "version_major": 2,
       "version_minor": 0
      },
      "text/plain": [
       "Downloading data files:   0%|          | 0/4 [00:00<?, ?it/s]"
      ]
     },
     "metadata": {},
     "output_type": "display_data"
    },
    {
     "data": {
      "application/vnd.jupyter.widget-view+json": {
       "model_id": "2d7014db1f0b4e8e9747b17ff719cc32",
       "version_major": 2,
       "version_minor": 0
      },
      "text/plain": [
       "Downloading data:   0%|          | 0.00/930M [00:00<?, ?B/s]"
      ]
     },
     "metadata": {},
     "output_type": "display_data"
    },
    {
     "data": {
      "application/vnd.jupyter.widget-view+json": {
       "model_id": "b145f33480d84f4e8c2293b8e2207ed5",
       "version_major": 2,
       "version_minor": 0
      },
      "text/plain": [
       "Extracting data files:   0%|          | 0/4 [00:00<?, ?it/s]"
      ]
     },
     "metadata": {},
     "output_type": "display_data"
    },
    {
     "data": {
      "application/vnd.jupyter.widget-view+json": {
       "model_id": "5caaf20489304a1db697a125c3ea9732",
       "version_major": 2,
       "version_minor": 0
      },
      "text/plain": [
       "Generating train split: 0 examples [00:00, ? examples/s]"
      ]
     },
     "metadata": {},
     "output_type": "display_data"
    },
    {
     "name": "stdout",
     "output_type": "stream",
     "text": [
      "/Users/gauravbelani/.cache/huggingface/datasets/downloads/c0c90a40ffbbe502bf0aa0911c0e2f2afd3837249582355c0b3f798364d8f766\n"
     ]
    },
    {
     "data": {
      "application/vnd.jupyter.widget-view+json": {
       "model_id": "8a33fb9f70c447ecae6dee932108b196",
       "version_major": 2,
       "version_minor": 0
      },
      "text/plain": [
       "Generating test split: 0 examples [00:00, ? examples/s]"
      ]
     },
     "metadata": {},
     "output_type": "display_data"
    },
    {
     "name": "stdout",
     "output_type": "stream",
     "text": [
      "/Users/gauravbelani/.cache/huggingface/datasets/downloads/e0245f18a1c0d6208d163a72d77fa3b36dd8082671e3acb1bd0a6436501777b3\n"
     ]
    },
    {
     "data": {
      "application/vnd.jupyter.widget-view+json": {
       "model_id": "d73ac3d67f2441098e4a2ba769316ee9",
       "version_major": 2,
       "version_minor": 0
      },
      "text/plain": [
       "Generating validation split: 0 examples [00:00, ? examples/s]"
      ]
     },
     "metadata": {},
     "output_type": "display_data"
    },
    {
     "name": "stdout",
     "output_type": "stream",
     "text": [
      "/Users/gauravbelani/.cache/huggingface/datasets/downloads/82d074c3031ceb89eb3ee2f120e92edd4eb64530261da4b1ee8a04b10aef0928\n"
     ]
    }
   ],
   "source": [
    "ds = datasets.load_dataset(\"CAiRE/ASCEND\")"
   ]
  },
  {
   "cell_type": "code",
   "execution_count": 13,
   "metadata": {},
   "outputs": [
    {
     "data": {
      "text/html": [
       "<div>\n",
       "<style scoped>\n",
       "    .dataframe tbody tr th:only-of-type {\n",
       "        vertical-align: middle;\n",
       "    }\n",
       "\n",
       "    .dataframe tbody tr th {\n",
       "        vertical-align: top;\n",
       "    }\n",
       "\n",
       "    .dataframe thead th {\n",
       "        text-align: right;\n",
       "    }\n",
       "</style>\n",
       "<table border=\"1\" class=\"dataframe\">\n",
       "  <thead>\n",
       "    <tr style=\"text-align: right;\">\n",
       "      <th></th>\n",
       "      <th>id</th>\n",
       "      <th>path</th>\n",
       "      <th>audio</th>\n",
       "      <th>transcription</th>\n",
       "      <th>duration</th>\n",
       "      <th>language</th>\n",
       "      <th>original_speaker_id</th>\n",
       "      <th>session_id</th>\n",
       "      <th>topic</th>\n",
       "    </tr>\n",
       "  </thead>\n",
       "  <tbody>\n",
       "    <tr>\n",
       "      <th>0</th>\n",
       "      <td>00000</td>\n",
       "      <td>/Users/gauravbelani/.cache/huggingface/dataset...</td>\n",
       "      <td>{'path': '/Users/gauravbelani/.cache/huggingfa...</td>\n",
       "      <td>我刚刚开始record</td>\n",
       "      <td>1.560</td>\n",
       "      <td>mixed</td>\n",
       "      <td>1</td>\n",
       "      <td>1</td>\n",
       "      <td>persona</td>\n",
       "    </tr>\n",
       "    <tr>\n",
       "      <th>1</th>\n",
       "      <td>00001</td>\n",
       "      <td>/Users/gauravbelani/.cache/huggingface/dataset...</td>\n",
       "      <td>{'path': '/Users/gauravbelani/.cache/huggingfa...</td>\n",
       "      <td>嗯hello我的名字叫徐妍</td>\n",
       "      <td>4.160</td>\n",
       "      <td>mixed</td>\n",
       "      <td>1</td>\n",
       "      <td>1</td>\n",
       "      <td>persona</td>\n",
       "    </tr>\n",
       "    <tr>\n",
       "      <th>2</th>\n",
       "      <td>00002</td>\n",
       "      <td>/Users/gauravbelani/.cache/huggingface/dataset...</td>\n",
       "      <td>{'path': '/Users/gauravbelani/.cache/huggingfa...</td>\n",
       "      <td>嗯初次见面nice to meet you嗯</td>\n",
       "      <td>3.320</td>\n",
       "      <td>mixed</td>\n",
       "      <td>1</td>\n",
       "      <td>1</td>\n",
       "      <td>persona</td>\n",
       "    </tr>\n",
       "    <tr>\n",
       "      <th>3</th>\n",
       "      <td>00003</td>\n",
       "      <td>/Users/gauravbelani/.cache/huggingface/dataset...</td>\n",
       "      <td>{'path': '/Users/gauravbelani/.cache/huggingfa...</td>\n",
       "      <td>今天呢我非常希望能够通过这个机会去跟你make friends</td>\n",
       "      <td>5.700</td>\n",
       "      <td>mixed</td>\n",
       "      <td>1</td>\n",
       "      <td>1</td>\n",
       "      <td>persona</td>\n",
       "    </tr>\n",
       "    <tr>\n",
       "      <th>4</th>\n",
       "      <td>00004</td>\n",
       "      <td>/Users/gauravbelani/.cache/huggingface/dataset...</td>\n",
       "      <td>{'path': '/Users/gauravbelani/.cache/huggingfa...</td>\n",
       "      <td>嗯你知道就是</td>\n",
       "      <td>2.020</td>\n",
       "      <td>zh</td>\n",
       "      <td>1</td>\n",
       "      <td>1</td>\n",
       "      <td>persona</td>\n",
       "    </tr>\n",
       "    <tr>\n",
       "      <th>...</th>\n",
       "      <td>...</td>\n",
       "      <td>...</td>\n",
       "      <td>...</td>\n",
       "      <td>...</td>\n",
       "      <td>...</td>\n",
       "      <td>...</td>\n",
       "      <td>...</td>\n",
       "      <td>...</td>\n",
       "      <td>...</td>\n",
       "    </tr>\n",
       "    <tr>\n",
       "      <th>9864</th>\n",
       "      <td>09864</td>\n",
       "      <td>/Users/gauravbelani/.cache/huggingface/dataset...</td>\n",
       "      <td>{'path': '/Users/gauravbelani/.cache/huggingfa...</td>\n",
       "      <td>嗯</td>\n",
       "      <td>0.550</td>\n",
       "      <td>zh</td>\n",
       "      <td>8</td>\n",
       "      <td>4</td>\n",
       "      <td>technology</td>\n",
       "    </tr>\n",
       "    <tr>\n",
       "      <th>9865</th>\n",
       "      <td>09865</td>\n",
       "      <td>/Users/gauravbelani/.cache/huggingface/dataset...</td>\n",
       "      <td>{'path': '/Users/gauravbelani/.cache/huggingfa...</td>\n",
       "      <td>her intellect intelli</td>\n",
       "      <td>1.485</td>\n",
       "      <td>en</td>\n",
       "      <td>8</td>\n",
       "      <td>3</td>\n",
       "      <td>education</td>\n",
       "    </tr>\n",
       "    <tr>\n",
       "      <th>9866</th>\n",
       "      <td>09866</td>\n",
       "      <td>/Users/gauravbelani/.cache/huggingface/dataset...</td>\n",
       "      <td>{'path': '/Users/gauravbelani/.cache/huggingfa...</td>\n",
       "      <td>学术方面的话 其实国内也有很多 学术很厉害 的 嗯 professor之类的 但是可能整体的...</td>\n",
       "      <td>14.506</td>\n",
       "      <td>mixed</td>\n",
       "      <td>8</td>\n",
       "      <td>3</td>\n",
       "      <td>education</td>\n",
       "    </tr>\n",
       "    <tr>\n",
       "      <th>9867</th>\n",
       "      <td>09867</td>\n",
       "      <td>/Users/gauravbelani/.cache/huggingface/dataset...</td>\n",
       "      <td>{'path': '/Users/gauravbelani/.cache/huggingfa...</td>\n",
       "      <td>home school education can provide an environme...</td>\n",
       "      <td>8.611</td>\n",
       "      <td>en</td>\n",
       "      <td>8</td>\n",
       "      <td>3</td>\n",
       "      <td>education</td>\n",
       "    </tr>\n",
       "    <tr>\n",
       "      <th>9868</th>\n",
       "      <td>09868</td>\n",
       "      <td>/Users/gauravbelani/.cache/huggingface/dataset...</td>\n",
       "      <td>{'path': '/Users/gauravbelani/.cache/huggingfa...</td>\n",
       "      <td>home school</td>\n",
       "      <td>0.399</td>\n",
       "      <td>en</td>\n",
       "      <td>8</td>\n",
       "      <td>3</td>\n",
       "      <td>education</td>\n",
       "    </tr>\n",
       "  </tbody>\n",
       "</table>\n",
       "<p>9869 rows × 9 columns</p>\n",
       "</div>"
      ],
      "text/plain": [
       "         id                                               path  \\\n",
       "0     00000  /Users/gauravbelani/.cache/huggingface/dataset...   \n",
       "1     00001  /Users/gauravbelani/.cache/huggingface/dataset...   \n",
       "2     00002  /Users/gauravbelani/.cache/huggingface/dataset...   \n",
       "3     00003  /Users/gauravbelani/.cache/huggingface/dataset...   \n",
       "4     00004  /Users/gauravbelani/.cache/huggingface/dataset...   \n",
       "...     ...                                                ...   \n",
       "9864  09864  /Users/gauravbelani/.cache/huggingface/dataset...   \n",
       "9865  09865  /Users/gauravbelani/.cache/huggingface/dataset...   \n",
       "9866  09866  /Users/gauravbelani/.cache/huggingface/dataset...   \n",
       "9867  09867  /Users/gauravbelani/.cache/huggingface/dataset...   \n",
       "9868  09868  /Users/gauravbelani/.cache/huggingface/dataset...   \n",
       "\n",
       "                                                  audio  \\\n",
       "0     {'path': '/Users/gauravbelani/.cache/huggingfa...   \n",
       "1     {'path': '/Users/gauravbelani/.cache/huggingfa...   \n",
       "2     {'path': '/Users/gauravbelani/.cache/huggingfa...   \n",
       "3     {'path': '/Users/gauravbelani/.cache/huggingfa...   \n",
       "4     {'path': '/Users/gauravbelani/.cache/huggingfa...   \n",
       "...                                                 ...   \n",
       "9864  {'path': '/Users/gauravbelani/.cache/huggingfa...   \n",
       "9865  {'path': '/Users/gauravbelani/.cache/huggingfa...   \n",
       "9866  {'path': '/Users/gauravbelani/.cache/huggingfa...   \n",
       "9867  {'path': '/Users/gauravbelani/.cache/huggingfa...   \n",
       "9868  {'path': '/Users/gauravbelani/.cache/huggingfa...   \n",
       "\n",
       "                                          transcription  duration language  \\\n",
       "0                                           我刚刚开始record     1.560    mixed   \n",
       "1                                         嗯hello我的名字叫徐妍     4.160    mixed   \n",
       "2                                嗯初次见面nice to meet you嗯     3.320    mixed   \n",
       "3                       今天呢我非常希望能够通过这个机会去跟你make friends     5.700    mixed   \n",
       "4                                                嗯你知道就是     2.020       zh   \n",
       "...                                                 ...       ...      ...   \n",
       "9864                                                  嗯     0.550       zh   \n",
       "9865                              her intellect intelli     1.485       en   \n",
       "9866  学术方面的话 其实国内也有很多 学术很厉害 的 嗯 professor之类的 但是可能整体的...    14.506    mixed   \n",
       "9867  home school education can provide an environme...     8.611       en   \n",
       "9868                                        home school     0.399       en   \n",
       "\n",
       "      original_speaker_id  session_id       topic  \n",
       "0                       1           1     persona  \n",
       "1                       1           1     persona  \n",
       "2                       1           1     persona  \n",
       "3                       1           1     persona  \n",
       "4                       1           1     persona  \n",
       "...                   ...         ...         ...  \n",
       "9864                    8           4  technology  \n",
       "9865                    8           3   education  \n",
       "9866                    8           3   education  \n",
       "9867                    8           3   education  \n",
       "9868                    8           3   education  \n",
       "\n",
       "[9869 rows x 9 columns]"
      ]
     },
     "metadata": {},
     "output_type": "display_data"
    }
   ],
   "source": [
    "train = pd.DataFrame(ds[\"train\"])\n",
    "display(train)"
   ]
  },
  {
   "cell_type": "code",
   "execution_count": 31,
   "metadata": {},
   "outputs": [
    {
     "name": "stdout",
     "output_type": "stream",
     "text": [
      "/Users/gauravbelani/.cache/huggingface/datasets/downloads/extracted/0f1eb62f6b2fda40ed53200130efd18d8a36f6d9269942607f6177a965da02ae/waves/ses1_spk11_L2474_312.620_9.120.wav\n",
      "<pydub.audio_segment.AudioSegment object at 0x287aaf0d0>\n"
     ]
    },
    {
     "data": {
      "text/plain": [
       "<_io.BufferedRandom name='second_half.wav'>"
      ]
     },
     "execution_count": 31,
     "metadata": {},
     "output_type": "execute_result"
    }
   ],
   "source": [
    "print(train.at[1069, 'path'])\n",
    "my_wav = train.at[1069, 'path']\n",
    "audio = AudioSegment.from_wav(my_wav)\n",
    "print(audio)\n",
    "splitpoint = 4560\n",
    "first_half = audio[:splitpoint]\n",
    "second_half = audio[splitpoint:]\n",
    "first_half.export(\"first_half.wav\", format=\"wav\")\n",
    "second_half.export(\"second_half.wav\", format=\"wav\")"
   ]
  }
 ],
 "metadata": {
  "kernelspec": {
   "display_name": "Python 3",
   "language": "python",
   "name": "python3"
  },
  "language_info": {
   "codemirror_mode": {
    "name": "ipython",
    "version": 3
   },
   "file_extension": ".py",
   "mimetype": "text/x-python",
   "name": "python",
   "nbconvert_exporter": "python",
   "pygments_lexer": "ipython3",
   "version": "3.11.5"
  }
 },
 "nbformat": 4,
 "nbformat_minor": 2
}
