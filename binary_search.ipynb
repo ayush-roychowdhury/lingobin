{
 "cells": [
  {
   "cell_type": "code",
   "execution_count": 7,
   "outputs": [
    {
     "name": "stdout",
     "output_type": "stream",
     "text": [
      "Requirement already satisfied: openai-whisper in c:\\users\\owner\\appdata\\local\\programs\\python\\python311\\lib\\site-packages (20231117)\n",
      "Requirement already satisfied: numba in c:\\users\\owner\\appdata\\local\\programs\\python\\python311\\lib\\site-packages (from openai-whisper) (0.58.1)\n",
      "Requirement already satisfied: numpy in c:\\users\\owner\\appdata\\local\\programs\\python\\python311\\lib\\site-packages (from openai-whisper) (1.26.0)\n",
      "Requirement already satisfied: torch in c:\\users\\owner\\appdata\\local\\programs\\python\\python311\\lib\\site-packages (from openai-whisper) (2.0.1)\n",
      "Requirement already satisfied: tqdm in c:\\users\\owner\\appdata\\local\\programs\\python\\python311\\lib\\site-packages (from openai-whisper) (4.66.1)\n",
      "Requirement already satisfied: more-itertools in c:\\users\\owner\\appdata\\local\\programs\\python\\python311\\lib\\site-packages (from openai-whisper) (10.1.0)\n",
      "Requirement already satisfied: tiktoken in c:\\users\\owner\\appdata\\local\\programs\\python\\python311\\lib\\site-packages (from openai-whisper) (0.5.1)\n",
      "Requirement already satisfied: llvmlite<0.42,>=0.41.0dev0 in c:\\users\\owner\\appdata\\local\\programs\\python\\python311\\lib\\site-packages (from numba->openai-whisper) (0.41.1)\n",
      "Requirement already satisfied: regex>=2022.1.18 in c:\\users\\owner\\appdata\\local\\programs\\python\\python311\\lib\\site-packages (from tiktoken->openai-whisper) (2023.10.3)\n",
      "Requirement already satisfied: requests>=2.26.0 in c:\\users\\owner\\appdata\\local\\programs\\python\\python311\\lib\\site-packages (from tiktoken->openai-whisper) (2.31.0)\n",
      "Requirement already satisfied: filelock in c:\\users\\owner\\appdata\\local\\programs\\python\\python311\\lib\\site-packages (from torch->openai-whisper) (3.12.4)\n",
      "Requirement already satisfied: typing-extensions in c:\\users\\owner\\appdata\\local\\programs\\python\\python311\\lib\\site-packages (from torch->openai-whisper) (4.8.0)\n",
      "Requirement already satisfied: sympy in c:\\users\\owner\\appdata\\local\\programs\\python\\python311\\lib\\site-packages (from torch->openai-whisper) (1.12)\n",
      "Requirement already satisfied: networkx in c:\\users\\owner\\appdata\\local\\programs\\python\\python311\\lib\\site-packages (from torch->openai-whisper) (3.1)\n",
      "Requirement already satisfied: jinja2 in c:\\users\\owner\\appdata\\local\\programs\\python\\python311\\lib\\site-packages (from torch->openai-whisper) (3.1.2)\n",
      "Requirement already satisfied: colorama in c:\\users\\owner\\appdata\\local\\programs\\python\\python311\\lib\\site-packages (from tqdm->openai-whisper) (0.4.6)\n",
      "Requirement already satisfied: charset-normalizer<4,>=2 in c:\\users\\owner\\appdata\\local\\programs\\python\\python311\\lib\\site-packages (from requests>=2.26.0->tiktoken->openai-whisper) (3.3.0)\n",
      "Requirement already satisfied: idna<4,>=2.5 in c:\\users\\owner\\appdata\\local\\programs\\python\\python311\\lib\\site-packages (from requests>=2.26.0->tiktoken->openai-whisper) (3.4)\n",
      "Requirement already satisfied: urllib3<3,>=1.21.1 in c:\\users\\owner\\appdata\\local\\programs\\python\\python311\\lib\\site-packages (from requests>=2.26.0->tiktoken->openai-whisper) (2.0.5)\n",
      "Requirement already satisfied: certifi>=2017.4.17 in c:\\users\\owner\\appdata\\local\\programs\\python\\python311\\lib\\site-packages (from requests>=2.26.0->tiktoken->openai-whisper) (2023.7.22)\n",
      "Requirement already satisfied: MarkupSafe>=2.0 in c:\\users\\owner\\appdata\\local\\programs\\python\\python311\\lib\\site-packages (from jinja2->torch->openai-whisper) (2.1.3)\n",
      "Requirement already satisfied: mpmath>=0.19 in c:\\users\\owner\\appdata\\local\\programs\\python\\python311\\lib\\site-packages (from sympy->torch->openai-whisper) (1.3.0)\n"
     ]
    },
    {
     "name": "stderr",
     "output_type": "stream",
     "text": [
      "\n",
      "[notice] A new release of pip is available: 23.2.1 -> 23.3.1\n",
      "[notice] To update, run: C:\\Users\\Owner\\AppData\\Local\\Programs\\Python\\Python311\\python.exe -m pip install --upgrade pip\n"
     ]
    },
    {
     "name": "stdout",
     "output_type": "stream",
     "text": [
      "Requirement already satisfied: pandas in c:\\users\\owner\\appdata\\local\\programs\\python\\python311\\lib\\site-packages (2.1.1)\n",
      "Requirement already satisfied: numpy>=1.23.2 in c:\\users\\owner\\appdata\\local\\programs\\python\\python311\\lib\\site-packages (from pandas) (1.26.0)\n",
      "Requirement already satisfied: python-dateutil>=2.8.2 in c:\\users\\owner\\appdata\\local\\programs\\python\\python311\\lib\\site-packages (from pandas) (2.8.2)\n",
      "Requirement already satisfied: pytz>=2020.1 in c:\\users\\owner\\appdata\\local\\programs\\python\\python311\\lib\\site-packages (from pandas) (2023.3.post1)\n",
      "Requirement already satisfied: tzdata>=2022.1 in c:\\users\\owner\\appdata\\local\\programs\\python\\python311\\lib\\site-packages (from pandas) (2023.3)\n",
      "Requirement already satisfied: six>=1.5 in c:\\users\\owner\\appdata\\local\\programs\\python\\python311\\lib\\site-packages (from python-dateutil>=2.8.2->pandas) (1.16.0)\n"
     ]
    },
    {
     "name": "stderr",
     "output_type": "stream",
     "text": [
      "\n",
      "[notice] A new release of pip is available: 23.2.1 -> 23.3.1\n",
      "[notice] To update, run: C:\\Users\\Owner\\AppData\\Local\\Programs\\Python\\Python311\\python.exe -m pip install --upgrade pip\n"
     ]
    },
    {
     "name": "stdout",
     "output_type": "stream",
     "text": [
      "Requirement already satisfied: librosa in c:\\users\\owner\\appdata\\local\\programs\\python\\python311\\lib\\site-packages (0.10.1)\n",
      "Requirement already satisfied: audioread>=2.1.9 in c:\\users\\owner\\appdata\\local\\programs\\python\\python311\\lib\\site-packages (from librosa) (3.0.1)\n",
      "Requirement already satisfied: numpy!=1.22.0,!=1.22.1,!=1.22.2,>=1.20.3 in c:\\users\\owner\\appdata\\local\\programs\\python\\python311\\lib\\site-packages (from librosa) (1.26.0)\n",
      "Requirement already satisfied: scipy>=1.2.0 in c:\\users\\owner\\appdata\\local\\programs\\python\\python311\\lib\\site-packages (from librosa) (1.11.3)\n",
      "Requirement already satisfied: scikit-learn>=0.20.0 in c:\\users\\owner\\appdata\\local\\programs\\python\\python311\\lib\\site-packages (from librosa) (1.3.1)\n",
      "Requirement already satisfied: joblib>=0.14 in c:\\users\\owner\\appdata\\local\\programs\\python\\python311\\lib\\site-packages (from librosa) (1.3.2)\n",
      "Requirement already satisfied: decorator>=4.3.0 in c:\\users\\owner\\appdata\\local\\programs\\python\\python311\\lib\\site-packages (from librosa) (5.1.1)\n",
      "Requirement already satisfied: numba>=0.51.0 in c:\\users\\owner\\appdata\\local\\programs\\python\\python311\\lib\\site-packages (from librosa) (0.58.1)\n",
      "Requirement already satisfied: soundfile>=0.12.1 in c:\\users\\owner\\appdata\\local\\programs\\python\\python311\\lib\\site-packages (from librosa) (0.12.1)\n",
      "Requirement already satisfied: pooch>=1.0 in c:\\users\\owner\\appdata\\local\\programs\\python\\python311\\lib\\site-packages (from librosa) (1.8.0)\n",
      "Requirement already satisfied: soxr>=0.3.2 in c:\\users\\owner\\appdata\\local\\programs\\python\\python311\\lib\\site-packages (from librosa) (0.3.7)\n",
      "Requirement already satisfied: typing-extensions>=4.1.1 in c:\\users\\owner\\appdata\\local\\programs\\python\\python311\\lib\\site-packages (from librosa) (4.8.0)\n",
      "Requirement already satisfied: lazy-loader>=0.1 in c:\\users\\owner\\appdata\\local\\programs\\python\\python311\\lib\\site-packages (from librosa) (0.3)\n",
      "Requirement already satisfied: msgpack>=1.0 in c:\\users\\owner\\appdata\\local\\programs\\python\\python311\\lib\\site-packages (from librosa) (1.0.7)\n",
      "Requirement already satisfied: llvmlite<0.42,>=0.41.0dev0 in c:\\users\\owner\\appdata\\local\\programs\\python\\python311\\lib\\site-packages (from numba>=0.51.0->librosa) (0.41.1)\n",
      "Requirement already satisfied: platformdirs>=2.5.0 in c:\\users\\owner\\appdata\\local\\programs\\python\\python311\\lib\\site-packages (from pooch>=1.0->librosa) (3.10.0)\n",
      "Requirement already satisfied: packaging>=20.0 in c:\\users\\owner\\appdata\\local\\programs\\python\\python311\\lib\\site-packages (from pooch>=1.0->librosa) (23.1)\n",
      "Requirement already satisfied: requests>=2.19.0 in c:\\users\\owner\\appdata\\local\\programs\\python\\python311\\lib\\site-packages (from pooch>=1.0->librosa) (2.31.0)\n",
      "Requirement already satisfied: threadpoolctl>=2.0.0 in c:\\users\\owner\\appdata\\local\\programs\\python\\python311\\lib\\site-packages (from scikit-learn>=0.20.0->librosa) (3.2.0)\n",
      "Requirement already satisfied: cffi>=1.0 in c:\\users\\owner\\appdata\\local\\programs\\python\\python311\\lib\\site-packages (from soundfile>=0.12.1->librosa) (1.16.0)\n",
      "Requirement already satisfied: pycparser in c:\\users\\owner\\appdata\\local\\programs\\python\\python311\\lib\\site-packages (from cffi>=1.0->soundfile>=0.12.1->librosa) (2.21)\n",
      "Requirement already satisfied: charset-normalizer<4,>=2 in c:\\users\\owner\\appdata\\local\\programs\\python\\python311\\lib\\site-packages (from requests>=2.19.0->pooch>=1.0->librosa) (3.3.0)\n",
      "Requirement already satisfied: idna<4,>=2.5 in c:\\users\\owner\\appdata\\local\\programs\\python\\python311\\lib\\site-packages (from requests>=2.19.0->pooch>=1.0->librosa) (3.4)\n",
      "Requirement already satisfied: urllib3<3,>=1.21.1 in c:\\users\\owner\\appdata\\local\\programs\\python\\python311\\lib\\site-packages (from requests>=2.19.0->pooch>=1.0->librosa) (2.0.5)\n",
      "Requirement already satisfied: certifi>=2017.4.17 in c:\\users\\owner\\appdata\\local\\programs\\python\\python311\\lib\\site-packages (from requests>=2.19.0->pooch>=1.0->librosa) (2023.7.22)\n"
     ]
    },
    {
     "name": "stderr",
     "output_type": "stream",
     "text": [
      "\n",
      "[notice] A new release of pip is available: 23.2.1 -> 23.3.1\n",
      "[notice] To update, run: C:\\Users\\Owner\\AppData\\Local\\Programs\\Python\\Python311\\python.exe -m pip install --upgrade pip\n"
     ]
    },
    {
     "name": "stdout",
     "output_type": "stream",
     "text": [
      "Requirement already satisfied: soundfile in c:\\users\\owner\\appdata\\local\\programs\\python\\python311\\lib\\site-packages (0.12.1)\n",
      "Requirement already satisfied: cffi>=1.0 in c:\\users\\owner\\appdata\\local\\programs\\python\\python311\\lib\\site-packages (from soundfile) (1.16.0)\n",
      "Requirement already satisfied: pycparser in c:\\users\\owner\\appdata\\local\\programs\\python\\python311\\lib\\site-packages (from cffi>=1.0->soundfile) (2.21)\n"
     ]
    },
    {
     "name": "stderr",
     "output_type": "stream",
     "text": [
      "\n",
      "[notice] A new release of pip is available: 23.2.1 -> 23.3.1\n",
      "[notice] To update, run: C:\\Users\\Owner\\AppData\\Local\\Programs\\Python\\Python311\\python.exe -m pip install --upgrade pip\n"
     ]
    },
    {
     "name": "stdout",
     "output_type": "stream",
     "text": [
      "Collecting datasets\n",
      "  Obtaining dependency information for datasets from https://files.pythonhosted.org/packages/e2/cf/db41e572d7ed958e8679018f8190438ef700aeb501b62da9e1eed9e4d69a/datasets-2.15.0-py3-none-any.whl.metadata\n",
      "  Downloading datasets-2.15.0-py3-none-any.whl.metadata (20 kB)\n",
      "Requirement already satisfied: numpy>=1.17 in c:\\users\\owner\\appdata\\local\\programs\\python\\python311\\lib\\site-packages (from datasets) (1.26.0)\n",
      "Collecting pyarrow>=8.0.0 (from datasets)\n",
      "  Obtaining dependency information for pyarrow>=8.0.0 from https://files.pythonhosted.org/packages/d4/f0/607f50ec87ac4775d6124855ae6be2c48bab58aa0a660ccd46e9af52bcd9/pyarrow-14.0.1-cp311-cp311-win_amd64.whl.metadata\n",
      "  Downloading pyarrow-14.0.1-cp311-cp311-win_amd64.whl.metadata (3.1 kB)\n",
      "Collecting pyarrow-hotfix (from datasets)\n",
      "  Obtaining dependency information for pyarrow-hotfix from https://files.pythonhosted.org/packages/e4/f4/9ec2222f5f5f8ea04f66f184caafd991a39c8782e31f5b0266f101cb68ca/pyarrow_hotfix-0.6-py3-none-any.whl.metadata\n",
      "  Downloading pyarrow_hotfix-0.6-py3-none-any.whl.metadata (3.6 kB)\n",
      "Collecting dill<0.3.8,>=0.3.0 (from datasets)\n",
      "  Obtaining dependency information for dill<0.3.8,>=0.3.0 from https://files.pythonhosted.org/packages/f5/3a/74a29b11cf2cdfcd6ba89c0cecd70b37cd1ba7b77978ce611eb7a146a832/dill-0.3.7-py3-none-any.whl.metadata\n",
      "  Downloading dill-0.3.7-py3-none-any.whl.metadata (9.9 kB)\n",
      "Requirement already satisfied: pandas in c:\\users\\owner\\appdata\\local\\programs\\python\\python311\\lib\\site-packages (from datasets) (2.1.1)\n",
      "Requirement already satisfied: requests>=2.19.0 in c:\\users\\owner\\appdata\\local\\programs\\python\\python311\\lib\\site-packages (from datasets) (2.31.0)\n",
      "Requirement already satisfied: tqdm>=4.62.1 in c:\\users\\owner\\appdata\\local\\programs\\python\\python311\\lib\\site-packages (from datasets) (4.66.1)\n",
      "Collecting xxhash (from datasets)\n",
      "  Obtaining dependency information for xxhash from https://files.pythonhosted.org/packages/b7/3a/74a609706ef4430fe6d041a3b8d209882c15440b695e373fe26d48c6f35c/xxhash-3.4.1-cp311-cp311-win_amd64.whl.metadata\n",
      "  Downloading xxhash-3.4.1-cp311-cp311-win_amd64.whl.metadata (12 kB)\n",
      "Collecting multiprocess (from datasets)\n",
      "  Obtaining dependency information for multiprocess from https://files.pythonhosted.org/packages/e7/41/96ac938770ba6e7d5ae1d8c9cafebac54b413549042c6260f0d0a6ec6622/multiprocess-0.70.15-py311-none-any.whl.metadata\n",
      "  Downloading multiprocess-0.70.15-py311-none-any.whl.metadata (7.2 kB)\n",
      "Collecting fsspec[http]<=2023.10.0,>=2023.1.0 (from datasets)\n",
      "  Obtaining dependency information for fsspec[http]<=2023.10.0,>=2023.1.0 from https://files.pythonhosted.org/packages/e8/f6/3eccfb530aac90ad1301c582da228e4763f19e719ac8200752a4841b0b2d/fsspec-2023.10.0-py3-none-any.whl.metadata\n",
      "  Downloading fsspec-2023.10.0-py3-none-any.whl.metadata (6.8 kB)\n",
      "Collecting aiohttp (from datasets)\n",
      "  Obtaining dependency information for aiohttp from https://files.pythonhosted.org/packages/84/7a/70ca0dcffcb261d1e71590d1c93863f8b59415a52f610f75ee3e570e003c/aiohttp-3.9.1-cp311-cp311-win_amd64.whl.metadata\n",
      "  Downloading aiohttp-3.9.1-cp311-cp311-win_amd64.whl.metadata (7.6 kB)\n",
      "Collecting huggingface-hub>=0.18.0 (from datasets)\n",
      "  Obtaining dependency information for huggingface-hub>=0.18.0 from https://files.pythonhosted.org/packages/05/09/1945ca6ba3ad8ad6e2872ba682ce8d68c5e63c8e55458ed8ab4885709f1d/huggingface_hub-0.19.4-py3-none-any.whl.metadata\n",
      "  Downloading huggingface_hub-0.19.4-py3-none-any.whl.metadata (14 kB)\n",
      "Requirement already satisfied: packaging in c:\\users\\owner\\appdata\\local\\programs\\python\\python311\\lib\\site-packages (from datasets) (23.1)\n",
      "Requirement already satisfied: pyyaml>=5.1 in c:\\users\\owner\\appdata\\local\\programs\\python\\python311\\lib\\site-packages (from datasets) (6.0.1)\n",
      "Requirement already satisfied: attrs>=17.3.0 in c:\\users\\owner\\appdata\\local\\programs\\python\\python311\\lib\\site-packages (from aiohttp->datasets) (23.1.0)\n",
      "Collecting multidict<7.0,>=4.5 (from aiohttp->datasets)\n",
      "  Downloading multidict-6.0.4-cp311-cp311-win_amd64.whl (28 kB)\n",
      "Collecting yarl<2.0,>=1.0 (from aiohttp->datasets)\n",
      "  Obtaining dependency information for yarl<2.0,>=1.0 from https://files.pythonhosted.org/packages/26/f0/57d1e1d3d2c7a34cf2d565ddbfe0b593f7d9b9c3cac6a541f4d7ed311fa2/yarl-1.9.3-cp311-cp311-win_amd64.whl.metadata\n",
      "  Downloading yarl-1.9.3-cp311-cp311-win_amd64.whl.metadata (29 kB)\n",
      "Collecting frozenlist>=1.1.1 (from aiohttp->datasets)\n",
      "  Obtaining dependency information for frozenlist>=1.1.1 from https://files.pythonhosted.org/packages/39/16/72d9ccd30815d0b37218348f053be37bc3d14288ac192a794a39990ac28e/frozenlist-1.4.0-cp311-cp311-win_amd64.whl.metadata\n",
      "  Downloading frozenlist-1.4.0-cp311-cp311-win_amd64.whl.metadata (5.3 kB)\n",
      "Collecting aiosignal>=1.1.2 (from aiohttp->datasets)\n",
      "  Downloading aiosignal-1.3.1-py3-none-any.whl (7.6 kB)\n",
      "Requirement already satisfied: filelock in c:\\users\\owner\\appdata\\local\\programs\\python\\python311\\lib\\site-packages (from huggingface-hub>=0.18.0->datasets) (3.12.4)\n",
      "Requirement already satisfied: typing-extensions>=3.7.4.3 in c:\\users\\owner\\appdata\\local\\programs\\python\\python311\\lib\\site-packages (from huggingface-hub>=0.18.0->datasets) (4.8.0)\n",
      "Requirement already satisfied: charset-normalizer<4,>=2 in c:\\users\\owner\\appdata\\local\\programs\\python\\python311\\lib\\site-packages (from requests>=2.19.0->datasets) (3.3.0)\n",
      "Requirement already satisfied: idna<4,>=2.5 in c:\\users\\owner\\appdata\\local\\programs\\python\\python311\\lib\\site-packages (from requests>=2.19.0->datasets) (3.4)\n",
      "Requirement already satisfied: urllib3<3,>=1.21.1 in c:\\users\\owner\\appdata\\local\\programs\\python\\python311\\lib\\site-packages (from requests>=2.19.0->datasets) (2.0.5)\n",
      "Requirement already satisfied: certifi>=2017.4.17 in c:\\users\\owner\\appdata\\local\\programs\\python\\python311\\lib\\site-packages (from requests>=2.19.0->datasets) (2023.7.22)\n",
      "Requirement already satisfied: colorama in c:\\users\\owner\\appdata\\local\\programs\\python\\python311\\lib\\site-packages (from tqdm>=4.62.1->datasets) (0.4.6)\n",
      "Requirement already satisfied: python-dateutil>=2.8.2 in c:\\users\\owner\\appdata\\local\\programs\\python\\python311\\lib\\site-packages (from pandas->datasets) (2.8.2)\n",
      "Requirement already satisfied: pytz>=2020.1 in c:\\users\\owner\\appdata\\local\\programs\\python\\python311\\lib\\site-packages (from pandas->datasets) (2023.3.post1)\n",
      "Requirement already satisfied: tzdata>=2022.1 in c:\\users\\owner\\appdata\\local\\programs\\python\\python311\\lib\\site-packages (from pandas->datasets) (2023.3)\n",
      "Requirement already satisfied: six>=1.5 in c:\\users\\owner\\appdata\\local\\programs\\python\\python311\\lib\\site-packages (from python-dateutil>=2.8.2->pandas->datasets) (1.16.0)\n",
      "Downloading datasets-2.15.0-py3-none-any.whl (521 kB)\n",
      "   ---------------------------------------- 0.0/521.2 kB ? eta -:--:--\n",
      "   --------------------------------- ----- 450.6/521.2 kB 14.2 MB/s eta 0:00:01\n",
      "   ---------------------------------------- 521.2/521.2 kB 8.1 MB/s eta 0:00:00\n",
      "Downloading dill-0.3.7-py3-none-any.whl (115 kB)\n",
      "   ---------------------------------------- 0.0/115.3 kB ? eta -:--:--\n",
      "   ---------------------------------------- 115.3/115.3 kB ? eta 0:00:00\n",
      "Downloading aiohttp-3.9.1-cp311-cp311-win_amd64.whl (364 kB)\n",
      "   ---------------------------------------- 0.0/364.8 kB ? eta -:--:--\n",
      "   -------------------------- ------------- 245.8/364.8 kB 7.6 MB/s eta 0:00:01\n",
      "   ---------------------------------------- 364.8/364.8 kB 5.7 MB/s eta 0:00:00\n",
      "Downloading huggingface_hub-0.19.4-py3-none-any.whl (311 kB)\n",
      "   ---------------------------------------- 0.0/311.7 kB ? eta -:--:--\n",
      "   --- ------------------------------------ 30.7/311.7 kB ? eta -:--:--\n",
      "   --- ------------------------------------ 30.7/311.7 kB ? eta -:--:--\n",
      "   -------------- ----------------------- 122.9/311.7 kB 804.6 kB/s eta 0:00:01\n",
      "   ---------------------------------------- 311.7/311.7 kB 1.9 MB/s eta 0:00:00\n",
      "Downloading pyarrow-14.0.1-cp311-cp311-win_amd64.whl (24.6 MB)\n",
      "   ---------------------------------------- 0.0/24.6 MB ? eta -:--:--\n",
      "   ---------------------------------------- 0.2/24.6 MB 14.7 MB/s eta 0:00:02\n",
      "   ---------------------------------------- 0.2/24.6 MB 14.7 MB/s eta 0:00:02\n",
      "    --------------------------------------- 0.4/24.6 MB 2.7 MB/s eta 0:00:09\n",
      "    --------------------------------------- 0.4/24.6 MB 2.7 MB/s eta 0:00:09\n",
      "    --------------------------------------- 0.6/24.6 MB 2.5 MB/s eta 0:00:10\n",
      "   - -------------------------------------- 0.9/24.6 MB 3.4 MB/s eta 0:00:07\n",
      "   - -------------------------------------- 1.2/24.6 MB 3.6 MB/s eta 0:00:07\n",
      "   -- ------------------------------------- 1.5/24.6 MB 4.1 MB/s eta 0:00:06\n",
      "   -- ------------------------------------- 1.8/24.6 MB 4.4 MB/s eta 0:00:06\n",
      "   --- ------------------------------------ 2.1/24.6 MB 4.8 MB/s eta 0:00:05\n",
      "   ---- ----------------------------------- 2.6/24.6 MB 5.2 MB/s eta 0:00:05\n",
      "   ---- ----------------------------------- 2.8/24.6 MB 5.5 MB/s eta 0:00:04\n",
      "   ---- ----------------------------------- 3.0/24.6 MB 4.8 MB/s eta 0:00:05\n",
      "   ---- ----------------------------------- 3.0/24.6 MB 4.8 MB/s eta 0:00:05\n",
      "   ----- ---------------------------------- 3.4/24.6 MB 5.0 MB/s eta 0:00:05\n",
      "   ----- ---------------------------------- 3.5/24.6 MB 4.9 MB/s eta 0:00:05\n",
      "   ------ --------------------------------- 3.8/24.6 MB 4.7 MB/s eta 0:00:05\n",
      "   ------ --------------------------------- 4.2/24.6 MB 5.0 MB/s eta 0:00:05\n",
      "   ------- -------------------------------- 4.4/24.6 MB 5.1 MB/s eta 0:00:04\n",
      "   ------- -------------------------------- 4.8/24.6 MB 5.2 MB/s eta 0:00:04\n",
      "   -------- ------------------------------- 5.0/24.6 MB 5.1 MB/s eta 0:00:04\n",
      "   -------- ------------------------------- 5.5/24.6 MB 5.4 MB/s eta 0:00:04\n",
      "   --------- ------------------------------ 5.7/24.6 MB 5.4 MB/s eta 0:00:04\n",
      "   --------- ------------------------------ 5.9/24.6 MB 5.4 MB/s eta 0:00:04\n",
      "   ---------- ----------------------------- 6.3/24.6 MB 5.5 MB/s eta 0:00:04\n",
      "   ----------- ---------------------------- 6.8/24.6 MB 5.6 MB/s eta 0:00:04\n",
      "   ----------- ---------------------------- 7.2/24.6 MB 5.7 MB/s eta 0:00:04\n",
      "   ------------ --------------------------- 7.6/24.6 MB 5.8 MB/s eta 0:00:03\n",
      "   ------------ --------------------------- 7.8/24.6 MB 5.8 MB/s eta 0:00:03\n",
      "   ------------- -------------------------- 8.2/24.6 MB 5.8 MB/s eta 0:00:03\n",
      "   -------------- ------------------------- 8.8/24.6 MB 6.1 MB/s eta 0:00:03\n",
      "   -------------- ------------------------- 9.1/24.6 MB 6.2 MB/s eta 0:00:03\n",
      "   -------------- ------------------------- 9.1/24.6 MB 6.2 MB/s eta 0:00:03\n",
      "   -------------- ------------------------- 9.1/24.6 MB 5.8 MB/s eta 0:00:03\n",
      "   --------------- ------------------------ 9.6/24.6 MB 5.9 MB/s eta 0:00:03\n",
      "   ---------------- ----------------------- 9.8/24.6 MB 5.9 MB/s eta 0:00:03\n",
      "   ---------------- ----------------------- 9.9/24.6 MB 5.8 MB/s eta 0:00:03\n",
      "   ---------------- ----------------------- 10.2/24.6 MB 5.8 MB/s eta 0:00:03\n",
      "   ----------------- ---------------------- 10.5/24.6 MB 6.1 MB/s eta 0:00:03\n",
      "   ----------------- ---------------------- 10.9/24.6 MB 6.4 MB/s eta 0:00:03\n",
      "   ------------------ --------------------- 11.4/24.6 MB 6.5 MB/s eta 0:00:03\n",
      "   ------------------- -------------------- 12.0/24.6 MB 6.6 MB/s eta 0:00:02\n",
      "   -------------------- ------------------- 12.3/24.6 MB 6.5 MB/s eta 0:00:02\n",
      "   -------------------- ------------------- 12.8/24.6 MB 6.6 MB/s eta 0:00:02\n",
      "   --------------------- ------------------ 13.3/24.6 MB 7.0 MB/s eta 0:00:02\n",
      "   ---------------------- ----------------- 13.7/24.6 MB 7.2 MB/s eta 0:00:02\n",
      "   ---------------------- ----------------- 14.1/24.6 MB 7.4 MB/s eta 0:00:02\n",
      "   ----------------------- ---------------- 14.5/24.6 MB 7.4 MB/s eta 0:00:02\n",
      "   ------------------------ --------------- 15.2/24.6 MB 7.7 MB/s eta 0:00:02\n",
      "   ------------------------- -------------- 15.7/24.6 MB 7.8 MB/s eta 0:00:02\n",
      "   -------------------------- ------------- 16.0/24.6 MB 8.0 MB/s eta 0:00:02\n",
      "   -------------------------- ------------- 16.5/24.6 MB 8.0 MB/s eta 0:00:02\n",
      "   --------------------------- ------------ 16.8/24.6 MB 8.0 MB/s eta 0:00:01\n",
      "   --------------------------- ------------ 17.2/24.6 MB 8.0 MB/s eta 0:00:01\n",
      "   ---------------------------- ----------- 17.5/24.6 MB 8.2 MB/s eta 0:00:01\n",
      "   ----------------------------- ---------- 18.0/24.6 MB 8.2 MB/s eta 0:00:01\n",
      "   ----------------------------- ---------- 18.4/24.6 MB 8.1 MB/s eta 0:00:01\n",
      "   ------------------------------ --------- 18.8/24.6 MB 8.0 MB/s eta 0:00:01\n",
      "   ------------------------------- -------- 19.1/24.6 MB 7.9 MB/s eta 0:00:01\n",
      "   ------------------------------- -------- 19.5/24.6 MB 8.5 MB/s eta 0:00:01\n",
      "   -------------------------------- ------- 19.9/24.6 MB 8.6 MB/s eta 0:00:01\n",
      "   --------------------------------- ------ 20.5/24.6 MB 9.4 MB/s eta 0:00:01\n",
      "   ---------------------------------- ----- 21.1/24.6 MB 9.5 MB/s eta 0:00:01\n",
      "   ----------------------------------- ---- 21.7/24.6 MB 9.6 MB/s eta 0:00:01\n",
      "   ------------------------------------ --- 22.2/24.6 MB 9.5 MB/s eta 0:00:01\n",
      "   ------------------------------------ --- 22.5/24.6 MB 9.5 MB/s eta 0:00:01\n",
      "   ------------------------------------- -- 22.7/24.6 MB 9.5 MB/s eta 0:00:01\n",
      "   ------------------------------------- -- 23.2/24.6 MB 9.4 MB/s eta 0:00:01\n",
      "   -------------------------------------- - 23.8/24.6 MB 9.5 MB/s eta 0:00:01\n",
      "   ---------------------------------------  24.0/24.6 MB 9.4 MB/s eta 0:00:01\n",
      "   ---------------------------------------  24.6/24.6 MB 9.4 MB/s eta 0:00:01\n",
      "   ---------------------------------------  24.6/24.6 MB 9.4 MB/s eta 0:00:01\n",
      "   ---------------------------------------- 24.6/24.6 MB 8.8 MB/s eta 0:00:00\n",
      "Downloading multiprocess-0.70.15-py311-none-any.whl (135 kB)\n",
      "   ---------------------------------------- 0.0/135.4 kB ? eta -:--:--\n",
      "   ---------------------------------------- 135.4/135.4 kB 7.8 MB/s eta 0:00:00\n",
      "Downloading pyarrow_hotfix-0.6-py3-none-any.whl (7.9 kB)\n",
      "Downloading xxhash-3.4.1-cp311-cp311-win_amd64.whl (29 kB)\n",
      "Downloading frozenlist-1.4.0-cp311-cp311-win_amd64.whl (44 kB)\n",
      "   ---------------------------------------- 0.0/44.9 kB ? eta -:--:--\n",
      "   ---------------------------------------- 44.9/44.9 kB ? eta 0:00:00\n",
      "Downloading fsspec-2023.10.0-py3-none-any.whl (166 kB)\n",
      "   ---------------------------------------- 0.0/166.4 kB ? eta -:--:--\n",
      "   --------------------------------------- 166.4/166.4 kB 10.4 MB/s eta 0:00:00\n",
      "Downloading yarl-1.9.3-cp311-cp311-win_amd64.whl (75 kB)\n",
      "   ---------------------------------------- 0.0/75.9 kB ? eta -:--:--\n",
      "   ---------------------------------------- 75.9/75.9 kB ? eta 0:00:00\n",
      "Installing collected packages: xxhash, pyarrow-hotfix, pyarrow, multidict, fsspec, frozenlist, dill, yarl, multiprocess, huggingface-hub, aiosignal, aiohttp, datasets\n",
      "Successfully installed aiohttp-3.9.1 aiosignal-1.3.1 datasets-2.15.0 dill-0.3.7 frozenlist-1.4.0 fsspec-2023.10.0 huggingface-hub-0.19.4 multidict-6.0.4 multiprocess-0.70.15 pyarrow-14.0.1 pyarrow-hotfix-0.6 xxhash-3.4.1 yarl-1.9.3\n"
     ]
    },
    {
     "name": "stderr",
     "output_type": "stream",
     "text": [
      "\n",
      "[notice] A new release of pip is available: 23.2.1 -> 23.3.1\n",
      "[notice] To update, run: C:\\Users\\Owner\\AppData\\Local\\Programs\\Python\\Python311\\python.exe -m pip install --upgrade pip\n"
     ]
    }
   ],
   "source": [
    "!pip install openai-whisper\n",
    "!pip install pandas\n",
    "!pip install librosa\n",
    "!pip install soundfile\n",
    "!pip install datasets\n",
    "\n"
   ],
   "metadata": {
    "collapsed": false
   }
  },
  {
   "cell_type": "code",
   "execution_count": 8,
   "outputs": [],
   "source": [
    "import whisper\n",
    "import pandas as pd\n",
    "import librosa\n",
    "import soundfile as sf\n",
    "import datasets"
   ],
   "metadata": {
    "collapsed": false
   }
  },
  {
   "cell_type": "code",
   "execution_count": 10,
   "outputs": [
    {
     "name": "stderr",
     "output_type": "stream",
     "text": [
      "C:\\Users\\Owner\\AppData\\Local\\Programs\\Python\\Python311\\Lib\\site-packages\\whisper\\transcribe.py:115: UserWarning: FP16 is not supported on CPU; using FP32 instead\n",
      "  warnings.warn(\"FP16 is not supported on CPU; using FP32 instead\")\n"
     ]
    },
    {
     "ename": "FileNotFoundError",
     "evalue": "[WinError 2] The system cannot find the file specified",
     "output_type": "error",
     "traceback": [
      "\u001B[1;31m---------------------------------------------------------------------------\u001B[0m",
      "\u001B[1;31mFileNotFoundError\u001B[0m                         Traceback (most recent call last)",
      "Cell \u001B[1;32mIn[10], line 23\u001B[0m\n\u001B[0;32m     21\u001B[0m \u001B[38;5;66;03m# Accessing the first audio clip from the 'train' split\u001B[39;00m\n\u001B[0;32m     22\u001B[0m first_audio \u001B[38;5;241m=\u001B[39m dataset[\u001B[38;5;124m'\u001B[39m\u001B[38;5;124mtrain\u001B[39m\u001B[38;5;124m'\u001B[39m][\u001B[38;5;241m0\u001B[39m][\u001B[38;5;124m'\u001B[39m\u001B[38;5;124maudio\u001B[39m\u001B[38;5;124m'\u001B[39m][\u001B[38;5;124m'\u001B[39m\u001B[38;5;124mpath\u001B[39m\u001B[38;5;124m'\u001B[39m]\n\u001B[1;32m---> 23\u001B[0m probability \u001B[38;5;241m=\u001B[39m \u001B[43mget_language_probability\u001B[49m\u001B[43m(\u001B[49m\u001B[43mfirst_audio\u001B[49m\u001B[43m)\u001B[49m\n\u001B[0;32m     25\u001B[0m \u001B[38;5;28mprint\u001B[39m(\u001B[38;5;124mf\u001B[39m\u001B[38;5;124m\"\u001B[39m\u001B[38;5;124mProbability of Chinese: \u001B[39m\u001B[38;5;132;01m{\u001B[39;00mprobability\u001B[38;5;132;01m}\u001B[39;00m\u001B[38;5;124m\"\u001B[39m)\n\u001B[0;32m     27\u001B[0m \u001B[38;5;66;03m# For binary search implementation:\u001B[39;00m\n\u001B[0;32m     28\u001B[0m \u001B[38;5;66;03m# Sort the dataset based on Chinese language probability and then apply binary search.\u001B[39;00m\n",
      "Cell \u001B[1;32mIn[10], line 15\u001B[0m, in \u001B[0;36mget_language_probability\u001B[1;34m(audio_path)\u001B[0m\n\u001B[0;32m     10\u001B[0m \u001B[38;5;28;01mdef\u001B[39;00m \u001B[38;5;21mget_language_probability\u001B[39m(audio_path):\n\u001B[0;32m     11\u001B[0m \u001B[38;5;250m    \u001B[39m\u001B[38;5;124;03m\"\"\"\u001B[39;00m\n\u001B[0;32m     12\u001B[0m \u001B[38;5;124;03m    This function uses Whisper to predict the language and its probability\u001B[39;00m\n\u001B[0;32m     13\u001B[0m \u001B[38;5;124;03m    for a given audio clip.\u001B[39;00m\n\u001B[0;32m     14\u001B[0m \u001B[38;5;124;03m    \"\"\"\u001B[39;00m\n\u001B[1;32m---> 15\u001B[0m     result \u001B[38;5;241m=\u001B[39m \u001B[43mmodel\u001B[49m\u001B[38;5;241;43m.\u001B[39;49m\u001B[43mtranscribe\u001B[49m\u001B[43m(\u001B[49m\u001B[43maudio_path\u001B[49m\u001B[43m)\u001B[49m\n\u001B[0;32m     16\u001B[0m     languages \u001B[38;5;241m=\u001B[39m result[\u001B[38;5;124m\"\u001B[39m\u001B[38;5;124mlanguage\u001B[39m\u001B[38;5;124m\"\u001B[39m]\n\u001B[0;32m     17\u001B[0m     \u001B[38;5;66;03m# Assuming 'zh' is the code for Chinese\u001B[39;00m\n",
      "File \u001B[1;32m~\\AppData\\Local\\Programs\\Python\\Python311\\Lib\\site-packages\\whisper\\transcribe.py:122\u001B[0m, in \u001B[0;36mtranscribe\u001B[1;34m(model, audio, verbose, temperature, compression_ratio_threshold, logprob_threshold, no_speech_threshold, condition_on_previous_text, initial_prompt, word_timestamps, prepend_punctuations, append_punctuations, **decode_options)\u001B[0m\n\u001B[0;32m    119\u001B[0m     decode_options[\u001B[38;5;124m\"\u001B[39m\u001B[38;5;124mfp16\u001B[39m\u001B[38;5;124m\"\u001B[39m] \u001B[38;5;241m=\u001B[39m \u001B[38;5;28;01mFalse\u001B[39;00m\n\u001B[0;32m    121\u001B[0m \u001B[38;5;66;03m# Pad 30-seconds of silence to the input audio, for slicing\u001B[39;00m\n\u001B[1;32m--> 122\u001B[0m mel \u001B[38;5;241m=\u001B[39m \u001B[43mlog_mel_spectrogram\u001B[49m\u001B[43m(\u001B[49m\u001B[43maudio\u001B[49m\u001B[43m,\u001B[49m\u001B[43m \u001B[49m\u001B[43mmodel\u001B[49m\u001B[38;5;241;43m.\u001B[39;49m\u001B[43mdims\u001B[49m\u001B[38;5;241;43m.\u001B[39;49m\u001B[43mn_mels\u001B[49m\u001B[43m,\u001B[49m\u001B[43m \u001B[49m\u001B[43mpadding\u001B[49m\u001B[38;5;241;43m=\u001B[39;49m\u001B[43mN_SAMPLES\u001B[49m\u001B[43m)\u001B[49m\n\u001B[0;32m    123\u001B[0m content_frames \u001B[38;5;241m=\u001B[39m mel\u001B[38;5;241m.\u001B[39mshape[\u001B[38;5;241m-\u001B[39m\u001B[38;5;241m1\u001B[39m] \u001B[38;5;241m-\u001B[39m N_FRAMES\n\u001B[0;32m    125\u001B[0m \u001B[38;5;28;01mif\u001B[39;00m decode_options\u001B[38;5;241m.\u001B[39mget(\u001B[38;5;124m\"\u001B[39m\u001B[38;5;124mlanguage\u001B[39m\u001B[38;5;124m\"\u001B[39m, \u001B[38;5;28;01mNone\u001B[39;00m) \u001B[38;5;129;01mis\u001B[39;00m \u001B[38;5;28;01mNone\u001B[39;00m:\n",
      "File \u001B[1;32m~\\AppData\\Local\\Programs\\Python\\Python311\\Lib\\site-packages\\whisper\\audio.py:140\u001B[0m, in \u001B[0;36mlog_mel_spectrogram\u001B[1;34m(audio, n_mels, padding, device)\u001B[0m\n\u001B[0;32m    138\u001B[0m \u001B[38;5;28;01mif\u001B[39;00m \u001B[38;5;129;01mnot\u001B[39;00m torch\u001B[38;5;241m.\u001B[39mis_tensor(audio):\n\u001B[0;32m    139\u001B[0m     \u001B[38;5;28;01mif\u001B[39;00m \u001B[38;5;28misinstance\u001B[39m(audio, \u001B[38;5;28mstr\u001B[39m):\n\u001B[1;32m--> 140\u001B[0m         audio \u001B[38;5;241m=\u001B[39m \u001B[43mload_audio\u001B[49m\u001B[43m(\u001B[49m\u001B[43maudio\u001B[49m\u001B[43m)\u001B[49m\n\u001B[0;32m    141\u001B[0m     audio \u001B[38;5;241m=\u001B[39m torch\u001B[38;5;241m.\u001B[39mfrom_numpy(audio)\n\u001B[0;32m    143\u001B[0m \u001B[38;5;28;01mif\u001B[39;00m device \u001B[38;5;129;01mis\u001B[39;00m \u001B[38;5;129;01mnot\u001B[39;00m \u001B[38;5;28;01mNone\u001B[39;00m:\n",
      "File \u001B[1;32m~\\AppData\\Local\\Programs\\Python\\Python311\\Lib\\site-packages\\whisper\\audio.py:58\u001B[0m, in \u001B[0;36mload_audio\u001B[1;34m(file, sr)\u001B[0m\n\u001B[0;32m     56\u001B[0m \u001B[38;5;66;03m# fmt: on\u001B[39;00m\n\u001B[0;32m     57\u001B[0m \u001B[38;5;28;01mtry\u001B[39;00m:\n\u001B[1;32m---> 58\u001B[0m     out \u001B[38;5;241m=\u001B[39m \u001B[43mrun\u001B[49m\u001B[43m(\u001B[49m\u001B[43mcmd\u001B[49m\u001B[43m,\u001B[49m\u001B[43m \u001B[49m\u001B[43mcapture_output\u001B[49m\u001B[38;5;241;43m=\u001B[39;49m\u001B[38;5;28;43;01mTrue\u001B[39;49;00m\u001B[43m,\u001B[49m\u001B[43m \u001B[49m\u001B[43mcheck\u001B[49m\u001B[38;5;241;43m=\u001B[39;49m\u001B[38;5;28;43;01mTrue\u001B[39;49;00m\u001B[43m)\u001B[49m\u001B[38;5;241m.\u001B[39mstdout\n\u001B[0;32m     59\u001B[0m \u001B[38;5;28;01mexcept\u001B[39;00m CalledProcessError \u001B[38;5;28;01mas\u001B[39;00m e:\n\u001B[0;32m     60\u001B[0m     \u001B[38;5;28;01mraise\u001B[39;00m \u001B[38;5;167;01mRuntimeError\u001B[39;00m(\u001B[38;5;124mf\u001B[39m\u001B[38;5;124m\"\u001B[39m\u001B[38;5;124mFailed to load audio: \u001B[39m\u001B[38;5;132;01m{\u001B[39;00me\u001B[38;5;241m.\u001B[39mstderr\u001B[38;5;241m.\u001B[39mdecode()\u001B[38;5;132;01m}\u001B[39;00m\u001B[38;5;124m\"\u001B[39m) \u001B[38;5;28;01mfrom\u001B[39;00m \u001B[38;5;21;01me\u001B[39;00m\n",
      "File \u001B[1;32m~\\AppData\\Local\\Programs\\Python\\Python311\\Lib\\subprocess.py:548\u001B[0m, in \u001B[0;36mrun\u001B[1;34m(input, capture_output, timeout, check, *popenargs, **kwargs)\u001B[0m\n\u001B[0;32m    545\u001B[0m     kwargs[\u001B[38;5;124m'\u001B[39m\u001B[38;5;124mstdout\u001B[39m\u001B[38;5;124m'\u001B[39m] \u001B[38;5;241m=\u001B[39m PIPE\n\u001B[0;32m    546\u001B[0m     kwargs[\u001B[38;5;124m'\u001B[39m\u001B[38;5;124mstderr\u001B[39m\u001B[38;5;124m'\u001B[39m] \u001B[38;5;241m=\u001B[39m PIPE\n\u001B[1;32m--> 548\u001B[0m \u001B[38;5;28;01mwith\u001B[39;00m \u001B[43mPopen\u001B[49m\u001B[43m(\u001B[49m\u001B[38;5;241;43m*\u001B[39;49m\u001B[43mpopenargs\u001B[49m\u001B[43m,\u001B[49m\u001B[43m \u001B[49m\u001B[38;5;241;43m*\u001B[39;49m\u001B[38;5;241;43m*\u001B[39;49m\u001B[43mkwargs\u001B[49m\u001B[43m)\u001B[49m \u001B[38;5;28;01mas\u001B[39;00m process:\n\u001B[0;32m    549\u001B[0m     \u001B[38;5;28;01mtry\u001B[39;00m:\n\u001B[0;32m    550\u001B[0m         stdout, stderr \u001B[38;5;241m=\u001B[39m process\u001B[38;5;241m.\u001B[39mcommunicate(\u001B[38;5;28minput\u001B[39m, timeout\u001B[38;5;241m=\u001B[39mtimeout)\n",
      "File \u001B[1;32m~\\AppData\\Local\\Programs\\Python\\Python311\\Lib\\subprocess.py:1026\u001B[0m, in \u001B[0;36mPopen.__init__\u001B[1;34m(self, args, bufsize, executable, stdin, stdout, stderr, preexec_fn, close_fds, shell, cwd, env, universal_newlines, startupinfo, creationflags, restore_signals, start_new_session, pass_fds, user, group, extra_groups, encoding, errors, text, umask, pipesize, process_group)\u001B[0m\n\u001B[0;32m   1022\u001B[0m         \u001B[38;5;28;01mif\u001B[39;00m \u001B[38;5;28mself\u001B[39m\u001B[38;5;241m.\u001B[39mtext_mode:\n\u001B[0;32m   1023\u001B[0m             \u001B[38;5;28mself\u001B[39m\u001B[38;5;241m.\u001B[39mstderr \u001B[38;5;241m=\u001B[39m io\u001B[38;5;241m.\u001B[39mTextIOWrapper(\u001B[38;5;28mself\u001B[39m\u001B[38;5;241m.\u001B[39mstderr,\n\u001B[0;32m   1024\u001B[0m                     encoding\u001B[38;5;241m=\u001B[39mencoding, errors\u001B[38;5;241m=\u001B[39merrors)\n\u001B[1;32m-> 1026\u001B[0m     \u001B[38;5;28;43mself\u001B[39;49m\u001B[38;5;241;43m.\u001B[39;49m\u001B[43m_execute_child\u001B[49m\u001B[43m(\u001B[49m\u001B[43margs\u001B[49m\u001B[43m,\u001B[49m\u001B[43m \u001B[49m\u001B[43mexecutable\u001B[49m\u001B[43m,\u001B[49m\u001B[43m \u001B[49m\u001B[43mpreexec_fn\u001B[49m\u001B[43m,\u001B[49m\u001B[43m \u001B[49m\u001B[43mclose_fds\u001B[49m\u001B[43m,\u001B[49m\n\u001B[0;32m   1027\u001B[0m \u001B[43m                        \u001B[49m\u001B[43mpass_fds\u001B[49m\u001B[43m,\u001B[49m\u001B[43m \u001B[49m\u001B[43mcwd\u001B[49m\u001B[43m,\u001B[49m\u001B[43m \u001B[49m\u001B[43menv\u001B[49m\u001B[43m,\u001B[49m\n\u001B[0;32m   1028\u001B[0m \u001B[43m                        \u001B[49m\u001B[43mstartupinfo\u001B[49m\u001B[43m,\u001B[49m\u001B[43m \u001B[49m\u001B[43mcreationflags\u001B[49m\u001B[43m,\u001B[49m\u001B[43m \u001B[49m\u001B[43mshell\u001B[49m\u001B[43m,\u001B[49m\n\u001B[0;32m   1029\u001B[0m \u001B[43m                        \u001B[49m\u001B[43mp2cread\u001B[49m\u001B[43m,\u001B[49m\u001B[43m \u001B[49m\u001B[43mp2cwrite\u001B[49m\u001B[43m,\u001B[49m\n\u001B[0;32m   1030\u001B[0m \u001B[43m                        \u001B[49m\u001B[43mc2pread\u001B[49m\u001B[43m,\u001B[49m\u001B[43m \u001B[49m\u001B[43mc2pwrite\u001B[49m\u001B[43m,\u001B[49m\n\u001B[0;32m   1031\u001B[0m \u001B[43m                        \u001B[49m\u001B[43merrread\u001B[49m\u001B[43m,\u001B[49m\u001B[43m \u001B[49m\u001B[43merrwrite\u001B[49m\u001B[43m,\u001B[49m\n\u001B[0;32m   1032\u001B[0m \u001B[43m                        \u001B[49m\u001B[43mrestore_signals\u001B[49m\u001B[43m,\u001B[49m\n\u001B[0;32m   1033\u001B[0m \u001B[43m                        \u001B[49m\u001B[43mgid\u001B[49m\u001B[43m,\u001B[49m\u001B[43m \u001B[49m\u001B[43mgids\u001B[49m\u001B[43m,\u001B[49m\u001B[43m \u001B[49m\u001B[43muid\u001B[49m\u001B[43m,\u001B[49m\u001B[43m \u001B[49m\u001B[43mumask\u001B[49m\u001B[43m,\u001B[49m\n\u001B[0;32m   1034\u001B[0m \u001B[43m                        \u001B[49m\u001B[43mstart_new_session\u001B[49m\u001B[43m,\u001B[49m\u001B[43m \u001B[49m\u001B[43mprocess_group\u001B[49m\u001B[43m)\u001B[49m\n\u001B[0;32m   1035\u001B[0m \u001B[38;5;28;01mexcept\u001B[39;00m:\n\u001B[0;32m   1036\u001B[0m     \u001B[38;5;66;03m# Cleanup if the child failed starting.\u001B[39;00m\n\u001B[0;32m   1037\u001B[0m     \u001B[38;5;28;01mfor\u001B[39;00m f \u001B[38;5;129;01min\u001B[39;00m \u001B[38;5;28mfilter\u001B[39m(\u001B[38;5;28;01mNone\u001B[39;00m, (\u001B[38;5;28mself\u001B[39m\u001B[38;5;241m.\u001B[39mstdin, \u001B[38;5;28mself\u001B[39m\u001B[38;5;241m.\u001B[39mstdout, \u001B[38;5;28mself\u001B[39m\u001B[38;5;241m.\u001B[39mstderr)):\n",
      "File \u001B[1;32m~\\AppData\\Local\\Programs\\Python\\Python311\\Lib\\subprocess.py:1538\u001B[0m, in \u001B[0;36mPopen._execute_child\u001B[1;34m(self, args, executable, preexec_fn, close_fds, pass_fds, cwd, env, startupinfo, creationflags, shell, p2cread, p2cwrite, c2pread, c2pwrite, errread, errwrite, unused_restore_signals, unused_gid, unused_gids, unused_uid, unused_umask, unused_start_new_session, unused_process_group)\u001B[0m\n\u001B[0;32m   1536\u001B[0m \u001B[38;5;66;03m# Start the process\u001B[39;00m\n\u001B[0;32m   1537\u001B[0m \u001B[38;5;28;01mtry\u001B[39;00m:\n\u001B[1;32m-> 1538\u001B[0m     hp, ht, pid, tid \u001B[38;5;241m=\u001B[39m _winapi\u001B[38;5;241m.\u001B[39mCreateProcess(executable, args,\n\u001B[0;32m   1539\u001B[0m                              \u001B[38;5;66;03m# no special security\u001B[39;00m\n\u001B[0;32m   1540\u001B[0m                              \u001B[38;5;28;01mNone\u001B[39;00m, \u001B[38;5;28;01mNone\u001B[39;00m,\n\u001B[0;32m   1541\u001B[0m                              \u001B[38;5;28mint\u001B[39m(\u001B[38;5;129;01mnot\u001B[39;00m close_fds),\n\u001B[0;32m   1542\u001B[0m                              creationflags,\n\u001B[0;32m   1543\u001B[0m                              env,\n\u001B[0;32m   1544\u001B[0m                              cwd,\n\u001B[0;32m   1545\u001B[0m                              startupinfo)\n\u001B[0;32m   1546\u001B[0m \u001B[38;5;28;01mfinally\u001B[39;00m:\n\u001B[0;32m   1547\u001B[0m     \u001B[38;5;66;03m# Child is launched. Close the parent's copy of those pipe\u001B[39;00m\n\u001B[0;32m   1548\u001B[0m     \u001B[38;5;66;03m# handles that only the child should have open.  You need\u001B[39;00m\n\u001B[1;32m   (...)\u001B[0m\n\u001B[0;32m   1551\u001B[0m     \u001B[38;5;66;03m# pipe will not close when the child process exits and the\u001B[39;00m\n\u001B[0;32m   1552\u001B[0m     \u001B[38;5;66;03m# ReadFile will hang.\u001B[39;00m\n\u001B[0;32m   1553\u001B[0m     \u001B[38;5;28mself\u001B[39m\u001B[38;5;241m.\u001B[39m_close_pipe_fds(p2cread, p2cwrite,\n\u001B[0;32m   1554\u001B[0m                          c2pread, c2pwrite,\n\u001B[0;32m   1555\u001B[0m                          errread, errwrite)\n",
      "\u001B[1;31mFileNotFoundError\u001B[0m: [WinError 2] The system cannot find the file specified"
     ]
    }
   ],
   "source": [
    "import whisper\n",
    "import datasets\n",
    "\n",
    "# Load the dataset\n",
    "dataset = datasets.load_dataset(\"CAiRE/ASCEND\")\n",
    "\n",
    "# Initialize Whisper model\n",
    "model = whisper.load_model(\"base\")  # Choose the appropriate model size\n",
    "\n",
    "def get_language_probability(audio_path):\n",
    "    \"\"\"\n",
    "    This function uses Whisper to predict the language and its probability\n",
    "    for a given audio clip.\n",
    "    \"\"\"\n",
    "    result = model.transcribe(audio_path)\n",
    "    languages = result[\"language\"]\n",
    "    # Assuming 'zh' is the code for Chinese\n",
    "    chinese_probability = languages.get('zh', 0)\n",
    "    return chinese_probability\n",
    "\n",
    "# Accessing the first audio clip from the 'train' split\n",
    "first_audio = dataset['train'][0]['audio']['path']\n",
    "probability = get_language_probability(first_audio)\n",
    "\n",
    "print(f\"Probability of Chinese: {probability}\")\n",
    "\n",
    "# For binary search implementation:\n",
    "# Sort the dataset based on Chinese language probability and then apply binary search.\n",
    "\n"
   ],
   "metadata": {
    "collapsed": false
   }
  },
  {
   "cell_type": "code",
   "execution_count": null,
   "metadata": {},
   "outputs": [],
   "source": [
    "model = whisper.load_model(\"base\")\n",
    "audio = whisper.load_audio(\"en+es.m4a\")\n",
    "audio = whisper.pad_or_trim(audio)\n",
    "mel = whisper.log_mel_spectrogram(audio).to(model.device)"
   ]
  },
  {
   "cell_type": "code",
   "execution_count": null,
   "metadata": {},
   "outputs": [],
   "source": [
    "_, probs = model.detect_language(mel)\n",
    "\n",
    "# Sorting the dictionary items by values in descending order\n",
    "sorted_probs = sorted(probs.items(), key=lambda x: x[1], reverse=True)\n",
    "\n",
    "# Creating a new list with the sorted key-value pairs\n",
    "sorted_probs = [{'key': key, 'value': value} for key, value in sorted_probs]\n",
    "\n",
    "print(sorted_probs)"
   ]
  }
 ],
 "metadata": {
  "language_info": {
   "name": "python"
  }
 },
 "nbformat": 4,
 "nbformat_minor": 2
}
