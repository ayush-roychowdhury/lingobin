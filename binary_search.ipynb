{
 "cells": [
  {
   "cell_type": "code",
   "execution_count": 49,
   "metadata": {},
   "outputs": [],
   "source": [
    "import whisper\n",
    "import datasets\n",
    "import pydub\n",
    "import soundfile\n",
    "import pandas as pd\n",
    "import librosa\n",
    "from pydub import AudioSegment"
   ]
  },
  {
   "cell_type": "code",
   "execution_count": 4,
   "metadata": {},
   "outputs": [
    {
     "data": {
      "application/vnd.jupyter.widget-view+json": {
       "model_id": "f0f37641d4dd409a8497158d906dd15c",
       "version_major": 2,
       "version_minor": 0
      },
      "text/plain": [
       "Downloading data files:   0%|          | 0/4 [00:00<?, ?it/s]"
      ]
     },
     "metadata": {},
     "output_type": "display_data"
    },
    {
     "data": {
      "application/vnd.jupyter.widget-view+json": {
       "model_id": "c7584c68216c4633b32b6dc7d7a89b35",
       "version_major": 2,
       "version_minor": 0
      },
      "text/plain": [
       "Extracting data files:   0%|          | 0/4 [00:00<?, ?it/s]"
      ]
     },
     "metadata": {},
     "output_type": "display_data"
    },
    {
     "data": {
      "application/vnd.jupyter.widget-view+json": {
       "model_id": "af24394dad394dc2a03a3e78515cfe58",
       "version_major": 2,
       "version_minor": 0
      },
      "text/plain": [
       "Generating train split: 0 examples [00:00, ? examples/s]"
      ]
     },
     "metadata": {},
     "output_type": "display_data"
    },
    {
     "name": "stdout",
     "output_type": "stream",
     "text": [
      "C:\\Users\\saleh\\.cache\\huggingface\\datasets\\downloads\\c0c90a40ffbbe502bf0aa0911c0e2f2afd3837249582355c0b3f798364d8f766\n"
     ]
    },
    {
     "data": {
      "application/vnd.jupyter.widget-view+json": {
       "model_id": "2dc98acb124b4fcca6ffc038050a345f",
       "version_major": 2,
       "version_minor": 0
      },
      "text/plain": [
       "Generating test split: 0 examples [00:00, ? examples/s]"
      ]
     },
     "metadata": {},
     "output_type": "display_data"
    },
    {
     "name": "stdout",
     "output_type": "stream",
     "text": [
      "C:\\Users\\saleh\\.cache\\huggingface\\datasets\\downloads\\e0245f18a1c0d6208d163a72d77fa3b36dd8082671e3acb1bd0a6436501777b3\n"
     ]
    },
    {
     "data": {
      "application/vnd.jupyter.widget-view+json": {
       "model_id": "6caadd0dd917455e9eaadf2132a358e8",
       "version_major": 2,
       "version_minor": 0
      },
      "text/plain": [
       "Generating validation split: 0 examples [00:00, ? examples/s]"
      ]
     },
     "metadata": {},
     "output_type": "display_data"
    },
    {
     "name": "stdout",
     "output_type": "stream",
     "text": [
      "C:\\Users\\saleh\\.cache\\huggingface\\datasets\\downloads\\82d074c3031ceb89eb3ee2f120e92edd4eb64530261da4b1ee8a04b10aef0928\n"
     ]
    }
   ],
   "source": [
    "dataset = datasets.load_dataset(\"CAiRE/ASCEND\")"
   ]
  },
  {
   "cell_type": "code",
   "execution_count": 11,
   "metadata": {},
   "outputs": [
    {
     "data": {
      "text/html": [
       "<div>\n",
       "<style scoped>\n",
       "    .dataframe tbody tr th:only-of-type {\n",
       "        vertical-align: middle;\n",
       "    }\n",
       "\n",
       "    .dataframe tbody tr th {\n",
       "        vertical-align: top;\n",
       "    }\n",
       "\n",
       "    .dataframe thead th {\n",
       "        text-align: right;\n",
       "    }\n",
       "</style>\n",
       "<table border=\"1\" class=\"dataframe\">\n",
       "  <thead>\n",
       "    <tr style=\"text-align: right;\">\n",
       "      <th></th>\n",
       "      <th>id</th>\n",
       "      <th>path</th>\n",
       "      <th>audio</th>\n",
       "      <th>transcription</th>\n",
       "      <th>duration</th>\n",
       "      <th>language</th>\n",
       "      <th>original_speaker_id</th>\n",
       "      <th>session_id</th>\n",
       "      <th>topic</th>\n",
       "    </tr>\n",
       "  </thead>\n",
       "  <tbody>\n",
       "    <tr>\n",
       "      <th>0</th>\n",
       "      <td>00000</td>\n",
       "      <td>C:\\Users\\saleh\\.cache\\huggingface\\datasets\\dow...</td>\n",
       "      <td>{'path': 'C:\\Users\\saleh\\.cache\\huggingface\\da...</td>\n",
       "      <td>嗯</td>\n",
       "      <td>0.820</td>\n",
       "      <td>zh</td>\n",
       "      <td>20</td>\n",
       "      <td>4</td>\n",
       "      <td>technology</td>\n",
       "    </tr>\n",
       "    <tr>\n",
       "      <th>1</th>\n",
       "      <td>00001</td>\n",
       "      <td>C:\\Users\\saleh\\.cache\\huggingface\\datasets\\dow...</td>\n",
       "      <td>{'path': 'C:\\Users\\saleh\\.cache\\huggingface\\da...</td>\n",
       "      <td>小朋友我回想一下when i was in elementary school</td>\n",
       "      <td>4.600</td>\n",
       "      <td>mixed</td>\n",
       "      <td>20</td>\n",
       "      <td>4</td>\n",
       "      <td>technology</td>\n",
       "    </tr>\n",
       "    <tr>\n",
       "      <th>2</th>\n",
       "      <td>00002</td>\n",
       "      <td>C:\\Users\\saleh\\.cache\\huggingface\\datasets\\dow...</td>\n",
       "      <td>{'path': 'C:\\Users\\saleh\\.cache\\huggingface\\da...</td>\n",
       "      <td>like year three</td>\n",
       "      <td>1.740</td>\n",
       "      <td>en</td>\n",
       "      <td>20</td>\n",
       "      <td>4</td>\n",
       "      <td>technology</td>\n",
       "    </tr>\n",
       "    <tr>\n",
       "      <th>3</th>\n",
       "      <td>00003</td>\n",
       "      <td>C:\\Users\\saleh\\.cache\\huggingface\\datasets\\dow...</td>\n",
       "      <td>{'path': 'C:\\Users\\saleh\\.cache\\huggingface\\da...</td>\n",
       "      <td>i have a phone but it's not a smart phone at t...</td>\n",
       "      <td>3.500</td>\n",
       "      <td>en</td>\n",
       "      <td>20</td>\n",
       "      <td>4</td>\n",
       "      <td>technology</td>\n",
       "    </tr>\n",
       "    <tr>\n",
       "      <th>4</th>\n",
       "      <td>00004</td>\n",
       "      <td>C:\\Users\\saleh\\.cache\\huggingface\\datasets\\dow...</td>\n",
       "      <td>{'path': 'C:\\Users\\saleh\\.cache\\huggingface\\da...</td>\n",
       "      <td>就是其实主要的功能就是打电话然后跟parents联系</td>\n",
       "      <td>6.020</td>\n",
       "      <td>mixed</td>\n",
       "      <td>20</td>\n",
       "      <td>4</td>\n",
       "      <td>technology</td>\n",
       "    </tr>\n",
       "    <tr>\n",
       "      <th>...</th>\n",
       "      <td>...</td>\n",
       "      <td>...</td>\n",
       "      <td>...</td>\n",
       "      <td>...</td>\n",
       "      <td>...</td>\n",
       "      <td>...</td>\n",
       "      <td>...</td>\n",
       "      <td>...</td>\n",
       "      <td>...</td>\n",
       "    </tr>\n",
       "    <tr>\n",
       "      <th>1125</th>\n",
       "      <td>01125</td>\n",
       "      <td>C:\\Users\\saleh\\.cache\\huggingface\\datasets\\dow...</td>\n",
       "      <td>{'path': 'C:\\Users\\saleh\\.cache\\huggingface\\da...</td>\n",
       "      <td>嗯我也觉得 [UNK] 就是那个L G三的那个gym every time I go the...</td>\n",
       "      <td>6.900</td>\n",
       "      <td>mixed</td>\n",
       "      <td>12</td>\n",
       "      <td>4</td>\n",
       "      <td>sports</td>\n",
       "    </tr>\n",
       "    <tr>\n",
       "      <th>1126</th>\n",
       "      <td>01126</td>\n",
       "      <td>C:\\Users\\saleh\\.cache\\huggingface\\datasets\\dow...</td>\n",
       "      <td>{'path': 'C:\\Users\\saleh\\.cache\\huggingface\\da...</td>\n",
       "      <td>when I go to the [UNK] nobody</td>\n",
       "      <td>2.990</td>\n",
       "      <td>en</td>\n",
       "      <td>12</td>\n",
       "      <td>4</td>\n",
       "      <td>sports</td>\n",
       "    </tr>\n",
       "    <tr>\n",
       "      <th>1127</th>\n",
       "      <td>01127</td>\n",
       "      <td>C:\\Users\\saleh\\.cache\\huggingface\\datasets\\dow...</td>\n",
       "      <td>{'path': 'C:\\Users\\saleh\\.cache\\huggingface\\da...</td>\n",
       "      <td>所以非常非常非常对比非常鲜明所以我就不去健身房那个L G三的健身房</td>\n",
       "      <td>5.710</td>\n",
       "      <td>mixed</td>\n",
       "      <td>12</td>\n",
       "      <td>4</td>\n",
       "      <td>sports</td>\n",
       "    </tr>\n",
       "    <tr>\n",
       "      <th>1128</th>\n",
       "      <td>01128</td>\n",
       "      <td>C:\\Users\\saleh\\.cache\\huggingface\\datasets\\dow...</td>\n",
       "      <td>{'path': 'C:\\Users\\saleh\\.cache\\huggingface\\da...</td>\n",
       "      <td>嗯很大一部分原因就是像你说的是因为水土不服还有</td>\n",
       "      <td>4.375</td>\n",
       "      <td>zh</td>\n",
       "      <td>7</td>\n",
       "      <td>3</td>\n",
       "      <td>education</td>\n",
       "    </tr>\n",
       "    <tr>\n",
       "      <th>1129</th>\n",
       "      <td>01129</td>\n",
       "      <td>C:\\Users\\saleh\\.cache\\huggingface\\datasets\\dow...</td>\n",
       "      <td>{'path': 'C:\\Users\\saleh\\.cache\\huggingface\\da...</td>\n",
       "      <td>我觉得这个资源 接不接触特别优</td>\n",
       "      <td>3.085</td>\n",
       "      <td>zh</td>\n",
       "      <td>7</td>\n",
       "      <td>3</td>\n",
       "      <td>education</td>\n",
       "    </tr>\n",
       "  </tbody>\n",
       "</table>\n",
       "<p>1130 rows × 9 columns</p>\n",
       "</div>"
      ],
      "text/plain": [
       "         id                                               path  \\\n",
       "0     00000  C:\\Users\\saleh\\.cache\\huggingface\\datasets\\dow...   \n",
       "1     00001  C:\\Users\\saleh\\.cache\\huggingface\\datasets\\dow...   \n",
       "2     00002  C:\\Users\\saleh\\.cache\\huggingface\\datasets\\dow...   \n",
       "3     00003  C:\\Users\\saleh\\.cache\\huggingface\\datasets\\dow...   \n",
       "4     00004  C:\\Users\\saleh\\.cache\\huggingface\\datasets\\dow...   \n",
       "...     ...                                                ...   \n",
       "1125  01125  C:\\Users\\saleh\\.cache\\huggingface\\datasets\\dow...   \n",
       "1126  01126  C:\\Users\\saleh\\.cache\\huggingface\\datasets\\dow...   \n",
       "1127  01127  C:\\Users\\saleh\\.cache\\huggingface\\datasets\\dow...   \n",
       "1128  01128  C:\\Users\\saleh\\.cache\\huggingface\\datasets\\dow...   \n",
       "1129  01129  C:\\Users\\saleh\\.cache\\huggingface\\datasets\\dow...   \n",
       "\n",
       "                                                  audio  \\\n",
       "0     {'path': 'C:\\Users\\saleh\\.cache\\huggingface\\da...   \n",
       "1     {'path': 'C:\\Users\\saleh\\.cache\\huggingface\\da...   \n",
       "2     {'path': 'C:\\Users\\saleh\\.cache\\huggingface\\da...   \n",
       "3     {'path': 'C:\\Users\\saleh\\.cache\\huggingface\\da...   \n",
       "4     {'path': 'C:\\Users\\saleh\\.cache\\huggingface\\da...   \n",
       "...                                                 ...   \n",
       "1125  {'path': 'C:\\Users\\saleh\\.cache\\huggingface\\da...   \n",
       "1126  {'path': 'C:\\Users\\saleh\\.cache\\huggingface\\da...   \n",
       "1127  {'path': 'C:\\Users\\saleh\\.cache\\huggingface\\da...   \n",
       "1128  {'path': 'C:\\Users\\saleh\\.cache\\huggingface\\da...   \n",
       "1129  {'path': 'C:\\Users\\saleh\\.cache\\huggingface\\da...   \n",
       "\n",
       "                                          transcription  duration language  \\\n",
       "0                                                     嗯     0.820       zh   \n",
       "1               小朋友我回想一下when i was in elementary school     4.600    mixed   \n",
       "2                                       like year three     1.740       en   \n",
       "3     i have a phone but it's not a smart phone at t...     3.500       en   \n",
       "4                            就是其实主要的功能就是打电话然后跟parents联系     6.020    mixed   \n",
       "...                                                 ...       ...      ...   \n",
       "1125  嗯我也觉得 [UNK] 就是那个L G三的那个gym every time I go the...     6.900    mixed   \n",
       "1126                      when I go to the [UNK] nobody     2.990       en   \n",
       "1127                  所以非常非常非常对比非常鲜明所以我就不去健身房那个L G三的健身房     5.710    mixed   \n",
       "1128                            嗯很大一部分原因就是像你说的是因为水土不服还有     4.375       zh   \n",
       "1129                                    我觉得这个资源 接不接触特别优     3.085       zh   \n",
       "\n",
       "      original_speaker_id  session_id       topic  \n",
       "0                      20           4  technology  \n",
       "1                      20           4  technology  \n",
       "2                      20           4  technology  \n",
       "3                      20           4  technology  \n",
       "4                      20           4  technology  \n",
       "...                   ...         ...         ...  \n",
       "1125                   12           4      sports  \n",
       "1126                   12           4      sports  \n",
       "1127                   12           4      sports  \n",
       "1128                    7           3   education  \n",
       "1129                    7           3   education  \n",
       "\n",
       "[1130 rows x 9 columns]"
      ]
     },
     "metadata": {},
     "output_type": "display_data"
    }
   ],
   "source": [
    "# Function to separate mp3 file by timestamp\n",
    "set = pd.DataFrame(dataset['validation'])\n",
    "display(set)"
   ]
  },
  {
   "cell_type": "code",
   "execution_count": 71,
   "metadata": {},
   "outputs": [
    {
     "name": "stdout",
     "output_type": "stream",
     "text": [
      "C:\\Users\\saleh\\.cache\\huggingface\\datasets\\downloads\\extracted\\f7ac516b8b52e26639eabec77d98278b293cb5a5579773126b8901eb92fb8307\\waves/ses4_spk20_L1616_49.6100_9.3600.wav\n"
     ]
    }
   ],
   "source": [
    "path = set.at[10, 'path']\n",
    "print(path)"
   ]
  },
  {
   "cell_type": "code",
   "execution_count": 72,
   "metadata": {},
   "outputs": [
    {
     "name": "stdout",
     "output_type": "stream",
     "text": [
      "0.9472328424453735\n",
      "0.6645970344543457\n",
      "0.9411177635192871\n",
      "0.8626769781112671\n",
      "0.8410094976425171\n",
      "{0: 'zh', 2000: 'en', 2500: 'en', 3000: 'en', 3500: 'en', 4000: 'zh', 6000: 'en', 6500: 'en', 7000: 'en', 7500: 'en', 8000: 'en', 8500: 'en', 9000: 'en', 9500: 'en'}\n"
     ]
    }
   ],
   "source": [
    "total_wav = AudioSegment.from_wav(path)\n",
    "total_wav_file = total_wav.export(\"total_wav.wav\", format=\"wav\")\n",
    "duration = len(total_wav)\n",
    "model = whisper.load_model(\"base\")\n",
    "\n",
    "def split_audio(start, end):\n",
    "    split = start+(end-start)/2\n",
    "    first_half = total_wav[start:split]\n",
    "    second_half = total_wav[split:end]\n",
    "    first_half.export(\"first_half.wav\", format=\"wav\")\n",
    "    second_half.export(\"second_half.wav\", format=\"wav\")\n",
    "\n",
    "def audio_interval(start, end):\n",
    "    interval = total_wav[start:end]\n",
    "    interval.export(\"interval.wav\", format=\"wav\")\n",
    "\n",
    "def get_highest_whisper_entry(file):\n",
    "    audio = whisper.load_audio(file)\n",
    "    audio = whisper.pad_or_trim(audio)\n",
    "    mel = whisper.log_mel_spectrogram(audio).to(model.device)\n",
    "    _, probs = model.detect_language(mel)\n",
    "    sorted_probs = sorted(probs.items(), key=lambda x: x[1], reverse=True)\n",
    "    sorted_probs = [{'key': key, 'value': value} for key, value in sorted_probs]\n",
    "    return sorted_probs[0]\n",
    "\n",
    "# my_dict = {}\n",
    "# def binary_search(file):\n",
    "#     if get_highest_whisper_entry(file)['value'] > 0.9:\n",
    "#         my_dict[0] = get_highest_whisper_entry(file)['key']\n",
    "#         return my_dict\n",
    "#     start = 0\n",
    "#     end = duration\n",
    "#     while(end-start > 500):\n",
    "#         split_audio(start, start+(end-start)/2)\n",
    "#         split_audio(start+(end-start)/2, end)\n",
    "\n",
    "def create_dict_from_intervals():\n",
    "    start = 0\n",
    "    my_dict = {}\n",
    "    while(start<duration):\n",
    "        audio_interval(start, start+2000)\n",
    "        file = \"interval.wav\"\n",
    "        print(get_highest_whisper_entry(file)['value'])\n",
    "        if get_highest_whisper_entry(file)['value'] < 0.90:\n",
    "            for i in range(4):\n",
    "                audio_interval(start+(i)*500, start+i*500)\n",
    "                my_dict[start+(i)*500] = get_highest_whisper_entry(file)['key']\n",
    "        else:\n",
    "            my_dict[start] = get_highest_whisper_entry(file)['key']\n",
    "        start += 2000\n",
    "    return my_dict\n",
    "\n",
    "print(create_dict_from_intervals())"
   ]
  },
  {
   "cell_type": "code",
   "execution_count": null,
   "metadata": {},
   "outputs": [],
   "source": [
    "model = whisper.load_model(\"base\")"
   ]
  },
  {
   "cell_type": "code",
   "execution_count": 73,
   "metadata": {},
   "outputs": [
    {
     "name": "stdout",
     "output_type": "stream",
     "text": [
      "[{'key': 'zh', 'value': 0.9570052027702332}, {'key': 'en', 'value': 0.019680246710777283}, {'key': 'ko', 'value': 0.012031739577651024}, {'key': 'ja', 'value': 0.003600840223953128}, {'key': 'th', 'value': 0.0011827453272417188}, {'key': 'de', 'value': 0.0007861490012146533}, {'key': 'ru', 'value': 0.0006601502536796033}, {'key': 'fr', 'value': 0.0006259232177399099}, {'key': 'nn', 'value': 0.0005809604772366583}, {'key': 'ms', 'value': 0.00046438383287750185}, {'key': 'jw', 'value': 0.00042146912892349064}, {'key': 'vi', 'value': 0.00041443025111220777}, {'key': 'haw', 'value': 0.00028859914164058864}, {'key': 'la', 'value': 0.00023940544633660465}, {'key': 'pt', 'value': 0.00023817573674023151}, {'key': 'es', 'value': 0.00017488804587628692}, {'key': 'cy', 'value': 0.0001692837249720469}, {'key': 'pl', 'value': 0.00016809391672722995}, {'key': 'it', 'value': 0.0001560395467095077}, {'key': 'id', 'value': 0.000152472872287035}, {'key': 'tr', 'value': 0.00014974210353102535}, {'key': 'km', 'value': 0.00011809527495643124}, {'key': 'ar', 'value': 0.0001081669979612343}, {'key': 'my', 'value': 8.356816397281364e-05}, {'key': 'mi', 'value': 4.436536619323306e-05}, {'key': 'bo', 'value': 4.396850636112504e-05}, {'key': 'br', 'value': 3.473083779681474e-05}, {'key': 'hi', 'value': 3.383757211850025e-05}, {'key': 'nl', 'value': 3.279164957348257e-05}, {'key': 'tl', 'value': 2.4132996259140782e-05}, {'key': 'be', 'value': 2.074031363008544e-05}, {'key': 'sn', 'value': 2.030938776442781e-05}, {'key': 'ta', 'value': 1.9427743609412573e-05}, {'key': 'da', 'value': 1.9070153939537704e-05}, {'key': 'ur', 'value': 1.8649940102477558e-05}, {'key': 'si', 'value': 1.3940996723249555e-05}, {'key': 'sv', 'value': 1.1847739187942352e-05}, {'key': 'el', 'value': 1.1171670848852955e-05}, {'key': 'ro', 'value': 1.0004055184253957e-05}, {'key': 'hu', 'value': 9.805227819015272e-06}, {'key': 'eu', 'value': 9.463884452998172e-06}, {'key': 'fi', 'value': 9.202466571878176e-06}, {'key': 'no', 'value': 8.934925062931143e-06}, {'key': 'fa', 'value': 8.2735559772118e-06}, {'key': 'uk', 'value': 7.234667009470286e-06}, {'key': 'sa', 'value': 6.789544841012685e-06}, {'key': 'mn', 'value': 6.069815299269976e-06}, {'key': 'te', 'value': 5.600212716672104e-06}, {'key': 'ca', 'value': 5.320450327417348e-06}, {'key': 'he', 'value': 4.687639375333674e-06}, {'key': 'ht', 'value': 4.5561987462861e-06}, {'key': 'lo', 'value': 4.552228801912861e-06}, {'key': 'yo', 'value': 4.380141035653651e-06}, {'key': 'bn', 'value': 4.2737610783660784e-06}, {'key': 'cs', 'value': 3.5431737614999292e-06}, {'key': 'yi', 'value': 3.383464900252875e-06}, {'key': 'gl', 'value': 3.3173391784657724e-06}, {'key': 'ml', 'value': 3.1540369036520133e-06}, {'key': 'fo', 'value': 2.912817990363692e-06}, {'key': 'kk', 'value': 2.7051717097492656e-06}, {'key': 'az', 'value': 2.4102782845147885e-06}, {'key': 'bs', 'value': 2.2579936285183067e-06}, {'key': 'oc', 'value': 2.199240952904802e-06}, {'key': 'hr', 'value': 1.9036947378481273e-06}, {'key': 'is', 'value': 1.8664413801161572e-06}, {'key': 'sl', 'value': 1.5155476376094157e-06}, {'key': 'sw', 'value': 1.2855234672315419e-06}, {'key': 'hy', 'value': 1.1556196568562882e-06}, {'key': 'ne', 'value': 1.1494579439386143e-06}, {'key': 'lv', 'value': 8.703630101081217e-07}, {'key': 'bg', 'value': 8.641483759674884e-07}, {'key': 'sk', 'value': 7.751208386252983e-07}, {'key': 'sr', 'value': 5.774300007033162e-07}, {'key': 'af', 'value': 4.068178895977326e-07}, {'key': 'lt', 'value': 3.955541103550786e-07}, {'key': 'et', 'value': 3.281654983311455e-07}, {'key': 'kn', 'value': 2.687107496512908e-07}, {'key': 'ps', 'value': 2.4150423882929317e-07}, {'key': 'sd', 'value': 2.2996809434516763e-07}, {'key': 'ka', 'value': 1.584400450838075e-07}, {'key': 'sq', 'value': 1.421938691237301e-07}, {'key': 'pa', 'value': 1.414230155205587e-07}, {'key': 'mr', 'value': 1.3424836708963994e-07}, {'key': 'am', 'value': 1.3023505118781031e-07}, {'key': 'ln', 'value': 1.2514576042121917e-07}, {'key': 'as', 'value': 1.1537119348759006e-07}, {'key': 'mt', 'value': 9.620695351486575e-08}, {'key': 'mk', 'value': 4.837579936634029e-08}, {'key': 'gu', 'value': 4.670285846941624e-08}, {'key': 'so', 'value': 3.3160706180979105e-08}, {'key': 'lb', 'value': 1.9539328377504717e-08}, {'key': 'su', 'value': 1.5656482332815358e-08}, {'key': 'tg', 'value': 1.1719276216126673e-08}, {'key': 'tt', 'value': 8.980289400994934e-09}, {'key': 'ha', 'value': 3.369079681903031e-09}, {'key': 'uz', 'value': 2.600733184365822e-09}, {'key': 'ba', 'value': 1.5857594126700292e-09}, {'key': 'tk', 'value': 1.5316854451441486e-09}, {'key': 'mg', 'value': 1.0065041022855326e-09}]\n",
      "[{'key': 'zh', 'value': 0.957632839679718}, {'key': 'en', 'value': 0.018867259845137596}, {'key': 'ko', 'value': 0.0070069595240056515}, {'key': 'ja', 'value': 0.005838810000568628}, {'key': 'jw', 'value': 0.0011608577333390713}, {'key': 'de', 'value': 0.0010399987222626805}, {'key': 'ms', 'value': 0.001029393170028925}, {'key': 'th', 'value': 0.000991809880360961}, {'key': 'ru', 'value': 0.0006642694352194667}, {'key': 'es', 'value': 0.000621735758613795}, {'key': 'nn', 'value': 0.0005421650130301714}, {'key': 'fr', 'value': 0.000521716836374253}, {'key': 'vi', 'value': 0.0004892791621387005}, {'key': 'id', 'value': 0.0004638489044737071}, {'key': 'cy', 'value': 0.00034687211154960096}, {'key': 'la', 'value': 0.00034009228693321347}, {'key': 'haw', 'value': 0.00029432112933136523}, {'key': 'pt', 'value': 0.0002787256962619722}, {'key': 'pl', 'value': 0.00022831736714579165}, {'key': 'it', 'value': 0.00020757410675287247}, {'key': 'tr', 'value': 0.00018674589227885008}, {'key': 'mi', 'value': 0.00013677535753231496}, {'key': 'my', 'value': 9.770401811692864e-05}, {'key': 'ar', 'value': 9.68898821156472e-05}, {'key': 'bo', 'value': 9.682208474259824e-05}, {'key': 'nl', 'value': 7.897979958215728e-05}, {'key': 'km', 'value': 7.748536881990731e-05}, {'key': 'be', 'value': 5.78621584281791e-05}, {'key': 'ta', 'value': 5.425402559922077e-05}, {'key': 'el', 'value': 4.949028152623214e-05}, {'key': 'hi', 'value': 4.506683035288006e-05}, {'key': 'br', 'value': 4.229738624417223e-05}, {'key': 'ur', 'value': 3.9590981032233685e-05}, {'key': 'tl', 'value': 3.880005169776268e-05}, {'key': 'ca', 'value': 2.7274889362161048e-05}, {'key': 'sn', 'value': 2.4187589588109404e-05}, {'key': 'fi', 'value': 2.323162516404409e-05}, {'key': 'sv', 'value': 2.2293619622359984e-05}, {'key': 'gl', 'value': 2.0936267901561223e-05}, {'key': 'da', 'value': 1.8560256648925133e-05}, {'key': 'eu', 'value': 1.6790532754384913e-05}, {'key': 'uk', 'value': 1.4310992810351308e-05}, {'key': 'si', 'value': 1.3058161130174994e-05}, {'key': 'sa', 'value': 1.187873294838937e-05}, {'key': 'ml', 'value': 1.005303693091264e-05}, {'key': 'ro', 'value': 9.940890777215827e-06}, {'key': 'te', 'value': 9.747185686137527e-06}, {'key': 'no', 'value': 8.770839485805482e-06}, {'key': 'mn', 'value': 7.612966328451876e-06}, {'key': 'he', 'value': 7.29349903849652e-06}, {'key': 'hu', 'value': 7.1035742621461395e-06}, {'key': 'fa', 'value': 5.317298018781003e-06}, {'key': 'bn', 'value': 5.212468295212602e-06}, {'key': 'oc', 'value': 4.759704097523354e-06}, {'key': 'kk', 'value': 4.711363544629421e-06}, {'key': 'lo', 'value': 4.646240995498374e-06}, {'key': 'cs', 'value': 4.499208898778306e-06}, {'key': 'az', 'value': 4.3644772631523665e-06}, {'key': 'yo', 'value': 4.0785935198073275e-06}, {'key': 'yi', 'value': 3.91909588870476e-06}, {'key': 'bs', 'value': 3.7769711980217835e-06}, {'key': 'sl', 'value': 3.63924687007966e-06}, {'key': 'fo', 'value': 3.6379176435730187e-06}, {'key': 'is', 'value': 3.1445565582544077e-06}, {'key': 'hr', 'value': 3.093924533459358e-06}, {'key': 'sw', 'value': 2.9217164865258383e-06}, {'key': 'ht', 'value': 2.349856004002504e-06}, {'key': 'bg', 'value': 1.9701096789503936e-06}, {'key': 'ne', 'value': 1.935347654580255e-06}, {'key': 'hy', 'value': 1.9050357877858914e-06}, {'key': 'sr', 'value': 1.7072543414542452e-06}, {'key': 'af', 'value': 1.6339139392584912e-06}, {'key': 'sk', 'value': 1.6223524426095537e-06}, {'key': 'lv', 'value': 1.25529584238393e-06}, {'key': 'kn', 'value': 8.018736821213679e-07}, {'key': 'lt', 'value': 6.68751511057053e-07}, {'key': 'et', 'value': 6.194379125190608e-07}, {'key': 'ps', 'value': 4.562955666642665e-07}, {'key': 'sd', 'value': 4.543996112715831e-07}, {'key': 'pa', 'value': 3.68127246019867e-07}, {'key': 'ka', 'value': 3.0269166018115357e-07}, {'key': 'mr', 'value': 2.469965068030433e-07}, {'key': 'sq', 'value': 2.3869756660133135e-07}, {'key': 'ln', 'value': 1.9755441371671623e-07}, {'key': 'am', 'value': 1.6608294117759215e-07}, {'key': 'as', 'value': 1.3771096973869135e-07}, {'key': 'mk', 'value': 1.327770462467015e-07}, {'key': 'mt', 'value': 1.169643155662925e-07}, {'key': 'so', 'value': 7.423821557495103e-08}, {'key': 'gu', 'value': 6.719245959629916e-08}, {'key': 'su', 'value': 5.13775262334093e-08}, {'key': 'tt', 'value': 2.8392637574370383e-08}, {'key': 'tg', 'value': 2.7288844961503855e-08}, {'key': 'lb', 'value': 1.919387671023287e-08}, {'key': 'ha', 'value': 7.539776802900633e-09}, {'key': 'uz', 'value': 4.476270465403331e-09}, {'key': 'ba', 'value': 2.7964968118965317e-09}, {'key': 'tk', 'value': 2.327522174994101e-09}, {'key': 'mg', 'value': 2.225037265546348e-09}]\n",
      "[{'key': 'zh', 'value': 0.8792800903320312}, {'key': 'en', 'value': 0.10830455273389816}, {'key': 'th', 'value': 0.0017258509760722518}, {'key': 'ko', 'value': 0.001649157260544598}, {'key': 'ja', 'value': 0.001487782341428101}, {'key': 'vi', 'value': 0.0011113089276477695}, {'key': 'de', 'value': 0.000962365185841918}, {'key': 'fr', 'value': 0.0007078138296492398}, {'key': 'nn', 'value': 0.0006837819237262011}, {'key': 'ms', 'value': 0.0005698144668713212}, {'key': 'cy', 'value': 0.00035977596417069435}, {'key': 'pt', 'value': 0.0003463057801127434}, {'key': 'pl', 'value': 0.0003425886097829789}, {'key': 'km', 'value': 0.00028575307806022465}, {'key': 'jw', 'value': 0.00028361318982206285}, {'key': 'ru', 'value': 0.0002552666119299829}, {'key': 'my', 'value': 0.00020280036551412195}, {'key': 'it', 'value': 0.00020132333156652749}, {'key': 'la', 'value': 0.00018813778297044337}, {'key': 'es', 'value': 0.000157185408170335}, {'key': 'id', 'value': 0.00012157901801401749}, {'key': 'haw', 'value': 0.00011738830653484911}, {'key': 'tl', 'value': 7.909833948360756e-05}, {'key': 'ar', 'value': 6.576176383532584e-05}, {'key': 'tr', 'value': 5.963178409729153e-05}, {'key': 'mi', 'value': 4.1601040720706806e-05}, {'key': 'hi', 'value': 3.85363309760578e-05}, {'key': 'br', 'value': 3.5042317904299125e-05}, {'key': 'bo', 'value': 3.114455103059299e-05}, {'key': 'nl', 'value': 3.0699589842697605e-05}, {'key': 'da', 'value': 2.8135469619883224e-05}, {'key': 'sn', 'value': 2.0452129319892265e-05}, {'key': 'sv', 'value': 2.027755181188695e-05}, {'key': 'hu', 'value': 1.5714111214037985e-05}, {'key': 'no', 'value': 1.4787644431635272e-05}, {'key': 'fi', 'value': 1.3549228242482059e-05}, {'key': 'ur', 'value': 1.1763097973016556e-05}, {'key': 'fa', 'value': 1.1629292202997021e-05}, {'key': 'si', 'value': 1.0210974323854316e-05}, {'key': 'he', 'value': 9.118591151491273e-06}, {'key': 'ht', 'value': 8.737250027479604e-06}, {'key': 'cs', 'value': 8.663842891110107e-06}, {'key': 'sa', 'value': 7.71815211919602e-06}, {'key': 'lo', 'value': 7.2570701377117075e-06}, {'key': 'bn', 'value': 7.060198186081834e-06}, {'key': 'yo', 'value': 6.494725312222727e-06}, {'key': 'el', 'value': 5.651321316690883e-06}, {'key': 'mn', 'value': 5.6403591770504136e-06}, {'key': 'yi', 'value': 4.593755875248462e-06}, {'key': 'ro', 'value': 4.445538706931984e-06}, {'key': 'eu', 'value': 4.39843370259041e-06}, {'key': 'ta', 'value': 3.9338215174211655e-06}, {'key': 'be', 'value': 3.8185767152754124e-06}, {'key': 'uk', 'value': 3.5763853247772204e-06}, {'key': 'ml', 'value': 3.5613588806882035e-06}, {'key': 'ca', 'value': 3.5264365578768775e-06}, {'key': 'bs', 'value': 3.2413588542112848e-06}, {'key': 'sk', 'value': 2.307120212208247e-06}, {'key': 'hr', 'value': 2.10640428122133e-06}, {'key': 'te', 'value': 1.9087140117335366e-06}, {'key': 'ne', 'value': 1.9013758674191195e-06}, {'key': 'gl', 'value': 1.865738227024849e-06}, {'key': 'az', 'value': 1.724709818518022e-06}, {'key': 'sl', 'value': 1.6806199027996627e-06}, {'key': 'oc', 'value': 1.6694825717422646e-06}, {'key': 'fo', 'value': 1.5047750139274285e-06}, {'key': 'is', 'value': 1.49027357565501e-06}, {'key': 'hy', 'value': 1.2041690524711157e-06}, {'key': 'sw', 'value': 9.513976806374558e-07}, {'key': 'kk', 'value': 9.468329835726763e-07}, {'key': 'lv', 'value': 9.123892823481583e-07}, {'key': 'sr', 'value': 6.189375199028291e-07}, {'key': 'bg', 'value': 4.366700636637688e-07}, {'key': 'af', 'value': 2.96733617233258e-07}, {'key': 'sd', 'value': 2.934494887085748e-07}, {'key': 'lt', 'value': 2.569397281604324e-07}, {'key': 'ka', 'value': 2.397036666934582e-07}, {'key': 'mr', 'value': 1.9192559364000772e-07}, {'key': 'pa', 'value': 1.8899530118687835e-07}, {'key': 'ps', 'value': 1.8839244830815005e-07}, {'key': 'as', 'value': 1.7795233020478918e-07}, {'key': 'ln', 'value': 1.6584529305418982e-07}, {'key': 'mt', 'value': 1.561965348173544e-07}, {'key': 'kn', 'value': 1.4948734872177738e-07}, {'key': 'sq', 'value': 1.4409603465992404e-07}, {'key': 'gu', 'value': 1.3152013877970603e-07}, {'key': 'et', 'value': 9.814245771622154e-08}, {'key': 'am', 'value': 7.196571516487893e-08}, {'key': 'lb', 'value': 4.5394095593565e-08}, {'key': 'so', 'value': 1.8687957847873804e-08}, {'key': 'mk', 'value': 1.8079543195881342e-08}, {'key': 'su', 'value': 1.7427431941996474e-08}, {'key': 'tg', 'value': 1.1882414163721933e-08}, {'key': 'tt', 'value': 6.323607415481547e-09}, {'key': 'ha', 'value': 2.8971525178889124e-09}, {'key': 'uz', 'value': 1.431461615908347e-09}, {'key': 'ba', 'value': 1.2393537307531233e-09}, {'key': 'tk', 'value': 1.1810645794696484e-09}, {'key': 'mg', 'value': 8.366332626685846e-10}]\n"
     ]
    }
   ],
   "source": [
    "audio = whisper.load_audio(\"total_wav.wav\")\n",
    "audio = whisper.pad_or_trim(audio)\n",
    "mel = whisper.log_mel_spectrogram(audio).to(model.device)\n",
    "\n",
    "_, probs = model.detect_language(mel)\n",
    "\n",
    "sorted_probs = sorted(probs.items(), key=lambda x: x[1], reverse=True)\n",
    "\n",
    "# Creating a new list with the sorted key-value pairs\n",
    "sorted_probs = [{'key': key, 'value': value} for key, value in sorted_probs]\n",
    "\n",
    "print(sorted_probs)\n",
    "\n",
    "\n",
    "\n",
    "audio = whisper.load_audio(\"first_half.wav\")\n",
    "audio = whisper.pad_or_trim(audio)\n",
    "mel = whisper.log_mel_spectrogram(audio).to(model.device)\n",
    "\n",
    "_, probs = model.detect_language(mel)\n",
    "\n",
    "sorted_probs = sorted(probs.items(), key=lambda x: x[1], reverse=True)\n",
    "\n",
    "# Creating a new list with the sorted key-value pairs\n",
    "sorted_probs = [{'key': key, 'value': value} for key, value in sorted_probs]\n",
    "\n",
    "print(sorted_probs)\n",
    "\n",
    "\n",
    "\n",
    "audio = whisper.load_audio(\"second_half.wav\")\n",
    "audio = whisper.pad_or_trim(audio)\n",
    "mel = whisper.log_mel_spectrogram(audio).to(model.device)\n",
    "\n",
    "_, probs = model.detect_language(mel)\n",
    "\n",
    "sorted_probs = sorted(probs.items(), key=lambda x: x[1], reverse=True)\n",
    "\n",
    "# Creating a new list with the sorted key-value pairs\n",
    "sorted_probs = [{'key': key, 'value': value} for key, value in sorted_probs]\n",
    "\n",
    "print(sorted_probs)"
   ]
  },
  {
   "cell_type": "code",
   "execution_count": null,
   "metadata": {},
   "outputs": [],
   "source": [
    "_, probs = model.detect_language(mel)\n",
    "\n",
    "# Sorting the dictionary items by values in descending order\n",
    "sorted_probs = sorted(probs.items(), key=lambda x: x[1], reverse=True)\n",
    "\n",
    "# Creating a new list with the sorted key-value pairs\n",
    "sorted_probs = [{'key': key, 'value': value} for key, value in sorted_probs]\n",
    "\n",
    "print(sorted_probs)"
   ]
  },
  {
   "cell_type": "code",
   "execution_count": 61,
   "metadata": {},
   "outputs": [
    {
     "name": "stdout",
     "output_type": "stream",
     "text": [
      "都看到小朋友們其實有受傷的會拿著 Smartphone在玩\n"
     ]
    }
   ],
   "source": [
    "options = whisper.DecodingOptions(task='transcribe', fp16=False)\n",
    "result = whisper.decode(model, mel, options)\n",
    "print(result.text)"
   ]
  },
  {
   "cell_type": "code",
   "execution_count": 62,
   "metadata": {},
   "outputs": [
    {
     "name": "stdout",
     "output_type": "stream",
     "text": [
      "I can see that the small ones are actually very small. The small ones will be used by SmartForn. And then play.\n"
     ]
    }
   ],
   "source": [
    "options = whisper.DecodingOptions(task='translate', fp16=False)\n",
    "result = whisper.decode(model, mel, options)\n",
    "print(result.text)"
   ]
  }
 ],
 "metadata": {
  "kernelspec": {
   "display_name": "Python 3",
   "language": "python",
   "name": "python3"
  },
  "language_info": {
   "codemirror_mode": {
    "name": "ipython",
    "version": 3
   },
   "file_extension": ".py",
   "mimetype": "text/x-python",
   "name": "python",
   "nbconvert_exporter": "python",
   "pygments_lexer": "ipython3",
   "version": "3.9.6"
  }
 },
 "nbformat": 4,
 "nbformat_minor": 2
}
