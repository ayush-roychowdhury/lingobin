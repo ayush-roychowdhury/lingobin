{
 "cells": [
  {
   "cell_type": "code",
   "execution_count": 8,
   "metadata": {},
   "outputs": [],
   "source": [
    "import os\n",
    "import datasets\n",
    "import soundfile\n",
    "import pandas as pd\n",
    "import librosa\n",
    "import pydub\n",
    "from pydub import AudioSegment\n",
    "import whisper\n"
   ]
  },
  {
   "cell_type": "code",
   "execution_count": 9,
   "metadata": {},
   "outputs": [],
   "source": [
    "ds = datasets.load_dataset(\"CAiRE/ASCEND\")"
   ]
  },
  {
   "cell_type": "code",
   "execution_count": 10,
   "metadata": {},
   "outputs": [
    {
     "data": {
      "text/plain": "         id                                               path  \\\n0     00000  C:\\Users\\Owner\\.cache\\huggingface\\datasets\\dow...   \n1     00001  C:\\Users\\Owner\\.cache\\huggingface\\datasets\\dow...   \n2     00002  C:\\Users\\Owner\\.cache\\huggingface\\datasets\\dow...   \n3     00003  C:\\Users\\Owner\\.cache\\huggingface\\datasets\\dow...   \n4     00004  C:\\Users\\Owner\\.cache\\huggingface\\datasets\\dow...   \n...     ...                                                ...   \n9864  09864  C:\\Users\\Owner\\.cache\\huggingface\\datasets\\dow...   \n9865  09865  C:\\Users\\Owner\\.cache\\huggingface\\datasets\\dow...   \n9866  09866  C:\\Users\\Owner\\.cache\\huggingface\\datasets\\dow...   \n9867  09867  C:\\Users\\Owner\\.cache\\huggingface\\datasets\\dow...   \n9868  09868  C:\\Users\\Owner\\.cache\\huggingface\\datasets\\dow...   \n\n                                                  audio  \\\n0     {'path': 'C:\\Users\\Owner\\.cache\\huggingface\\da...   \n1     {'path': 'C:\\Users\\Owner\\.cache\\huggingface\\da...   \n2     {'path': 'C:\\Users\\Owner\\.cache\\huggingface\\da...   \n3     {'path': 'C:\\Users\\Owner\\.cache\\huggingface\\da...   \n4     {'path': 'C:\\Users\\Owner\\.cache\\huggingface\\da...   \n...                                                 ...   \n9864  {'path': 'C:\\Users\\Owner\\.cache\\huggingface\\da...   \n9865  {'path': 'C:\\Users\\Owner\\.cache\\huggingface\\da...   \n9866  {'path': 'C:\\Users\\Owner\\.cache\\huggingface\\da...   \n9867  {'path': 'C:\\Users\\Owner\\.cache\\huggingface\\da...   \n9868  {'path': 'C:\\Users\\Owner\\.cache\\huggingface\\da...   \n\n                                          transcription  duration language  \\\n0                                           我刚刚开始record     1.560    mixed   \n1                                         嗯hello我的名字叫徐妍     4.160    mixed   \n2                                嗯初次见面nice to meet you嗯     3.320    mixed   \n3                       今天呢我非常希望能够通过这个机会去跟你make friends     5.700    mixed   \n4                                                嗯你知道就是     2.020       zh   \n...                                                 ...       ...      ...   \n9864                                                  嗯     0.550       zh   \n9865                              her intellect intelli     1.485       en   \n9866  学术方面的话 其实国内也有很多 学术很厉害 的 嗯 professor之类的 但是可能整体的...    14.506    mixed   \n9867  home school education can provide an environme...     8.611       en   \n9868                                        home school     0.399       en   \n\n      original_speaker_id  session_id       topic  \n0                       1           1     persona  \n1                       1           1     persona  \n2                       1           1     persona  \n3                       1           1     persona  \n4                       1           1     persona  \n...                   ...         ...         ...  \n9864                    8           4  technology  \n9865                    8           3   education  \n9866                    8           3   education  \n9867                    8           3   education  \n9868                    8           3   education  \n\n[9869 rows x 9 columns]",
      "text/html": "<div>\n<style scoped>\n    .dataframe tbody tr th:only-of-type {\n        vertical-align: middle;\n    }\n\n    .dataframe tbody tr th {\n        vertical-align: top;\n    }\n\n    .dataframe thead th {\n        text-align: right;\n    }\n</style>\n<table border=\"1\" class=\"dataframe\">\n  <thead>\n    <tr style=\"text-align: right;\">\n      <th></th>\n      <th>id</th>\n      <th>path</th>\n      <th>audio</th>\n      <th>transcription</th>\n      <th>duration</th>\n      <th>language</th>\n      <th>original_speaker_id</th>\n      <th>session_id</th>\n      <th>topic</th>\n    </tr>\n  </thead>\n  <tbody>\n    <tr>\n      <th>0</th>\n      <td>00000</td>\n      <td>C:\\Users\\Owner\\.cache\\huggingface\\datasets\\dow...</td>\n      <td>{'path': 'C:\\Users\\Owner\\.cache\\huggingface\\da...</td>\n      <td>我刚刚开始record</td>\n      <td>1.560</td>\n      <td>mixed</td>\n      <td>1</td>\n      <td>1</td>\n      <td>persona</td>\n    </tr>\n    <tr>\n      <th>1</th>\n      <td>00001</td>\n      <td>C:\\Users\\Owner\\.cache\\huggingface\\datasets\\dow...</td>\n      <td>{'path': 'C:\\Users\\Owner\\.cache\\huggingface\\da...</td>\n      <td>嗯hello我的名字叫徐妍</td>\n      <td>4.160</td>\n      <td>mixed</td>\n      <td>1</td>\n      <td>1</td>\n      <td>persona</td>\n    </tr>\n    <tr>\n      <th>2</th>\n      <td>00002</td>\n      <td>C:\\Users\\Owner\\.cache\\huggingface\\datasets\\dow...</td>\n      <td>{'path': 'C:\\Users\\Owner\\.cache\\huggingface\\da...</td>\n      <td>嗯初次见面nice to meet you嗯</td>\n      <td>3.320</td>\n      <td>mixed</td>\n      <td>1</td>\n      <td>1</td>\n      <td>persona</td>\n    </tr>\n    <tr>\n      <th>3</th>\n      <td>00003</td>\n      <td>C:\\Users\\Owner\\.cache\\huggingface\\datasets\\dow...</td>\n      <td>{'path': 'C:\\Users\\Owner\\.cache\\huggingface\\da...</td>\n      <td>今天呢我非常希望能够通过这个机会去跟你make friends</td>\n      <td>5.700</td>\n      <td>mixed</td>\n      <td>1</td>\n      <td>1</td>\n      <td>persona</td>\n    </tr>\n    <tr>\n      <th>4</th>\n      <td>00004</td>\n      <td>C:\\Users\\Owner\\.cache\\huggingface\\datasets\\dow...</td>\n      <td>{'path': 'C:\\Users\\Owner\\.cache\\huggingface\\da...</td>\n      <td>嗯你知道就是</td>\n      <td>2.020</td>\n      <td>zh</td>\n      <td>1</td>\n      <td>1</td>\n      <td>persona</td>\n    </tr>\n    <tr>\n      <th>...</th>\n      <td>...</td>\n      <td>...</td>\n      <td>...</td>\n      <td>...</td>\n      <td>...</td>\n      <td>...</td>\n      <td>...</td>\n      <td>...</td>\n      <td>...</td>\n    </tr>\n    <tr>\n      <th>9864</th>\n      <td>09864</td>\n      <td>C:\\Users\\Owner\\.cache\\huggingface\\datasets\\dow...</td>\n      <td>{'path': 'C:\\Users\\Owner\\.cache\\huggingface\\da...</td>\n      <td>嗯</td>\n      <td>0.550</td>\n      <td>zh</td>\n      <td>8</td>\n      <td>4</td>\n      <td>technology</td>\n    </tr>\n    <tr>\n      <th>9865</th>\n      <td>09865</td>\n      <td>C:\\Users\\Owner\\.cache\\huggingface\\datasets\\dow...</td>\n      <td>{'path': 'C:\\Users\\Owner\\.cache\\huggingface\\da...</td>\n      <td>her intellect intelli</td>\n      <td>1.485</td>\n      <td>en</td>\n      <td>8</td>\n      <td>3</td>\n      <td>education</td>\n    </tr>\n    <tr>\n      <th>9866</th>\n      <td>09866</td>\n      <td>C:\\Users\\Owner\\.cache\\huggingface\\datasets\\dow...</td>\n      <td>{'path': 'C:\\Users\\Owner\\.cache\\huggingface\\da...</td>\n      <td>学术方面的话 其实国内也有很多 学术很厉害 的 嗯 professor之类的 但是可能整体的...</td>\n      <td>14.506</td>\n      <td>mixed</td>\n      <td>8</td>\n      <td>3</td>\n      <td>education</td>\n    </tr>\n    <tr>\n      <th>9867</th>\n      <td>09867</td>\n      <td>C:\\Users\\Owner\\.cache\\huggingface\\datasets\\dow...</td>\n      <td>{'path': 'C:\\Users\\Owner\\.cache\\huggingface\\da...</td>\n      <td>home school education can provide an environme...</td>\n      <td>8.611</td>\n      <td>en</td>\n      <td>8</td>\n      <td>3</td>\n      <td>education</td>\n    </tr>\n    <tr>\n      <th>9868</th>\n      <td>09868</td>\n      <td>C:\\Users\\Owner\\.cache\\huggingface\\datasets\\dow...</td>\n      <td>{'path': 'C:\\Users\\Owner\\.cache\\huggingface\\da...</td>\n      <td>home school</td>\n      <td>0.399</td>\n      <td>en</td>\n      <td>8</td>\n      <td>3</td>\n      <td>education</td>\n    </tr>\n  </tbody>\n</table>\n<p>9869 rows × 9 columns</p>\n</div>"
     },
     "metadata": {},
     "output_type": "display_data"
    }
   ],
   "source": [
    "train = pd.DataFrame(ds[\"train\"])\n",
    "display(train)"
   ]
  },
  {
   "cell_type": "code",
   "execution_count": 23,
   "metadata": {},
   "outputs": [
    {
     "name": "stdout",
     "output_type": "stream",
     "text": [
      "[ 0.00402832  0.00540161  0.00634766 ... -0.02001953 -0.0100708\n",
      " -0.00088501]\n"
     ]
    }
   ],
   "source": [
    "from pydub import audio_segment\n",
    "\n",
    "audio = whisper.load_audio('alia_30s_clip_2.wav')\n",
    "print(audio)"
   ]
  },
  {
   "cell_type": "code",
   "execution_count": 24,
   "metadata": {},
   "outputs": [],
   "source": [
    "model = whisper.load_model(\"base\")\n",
    "audio = whisper.pad_or_trim(audio)\n",
    "mel = whisper.log_mel_spectrogram(audio).to(model.device)"
   ]
  },
  {
   "cell_type": "code",
   "execution_count": 25,
   "metadata": {},
   "outputs": [
    {
     "name": "stdout",
     "output_type": "stream",
     "text": [
      "If you want to be an individual, you can do it in your life. If you want to be an individual, you can do it in your life. If you want to be an individual, you can do it in your life. If you want to be an individual, you can do it in your life. If you want to be an individual, you can do it in your life. If you want to be an individual, you can do it in your life.\n"
     ]
    }
   ],
   "source": [
    "options = whisper.DecodingOptions(task='translate', language='zh', fp16=False)\n",
    "result = whisper.decode(model, mel, options)\n",
    "print(result.text)"
   ]
  },
  {
   "cell_type": "code",
   "execution_count": null,
   "outputs": [],
   "source": [],
   "metadata": {
    "collapsed": false
   }
  }
 ],
 "metadata": {
  "kernelspec": {
   "display_name": "Python 3",
   "language": "python",
   "name": "python3"
  },
  "language_info": {
   "codemirror_mode": {
    "name": "ipython",
    "version": 3
   },
   "file_extension": ".py",
   "mimetype": "text/x-python",
   "name": "python",
   "nbconvert_exporter": "python",
   "pygments_lexer": "ipython3",
   "version": "3.11.0"
  }
 },
 "nbformat": 4,
 "nbformat_minor": 2
}
